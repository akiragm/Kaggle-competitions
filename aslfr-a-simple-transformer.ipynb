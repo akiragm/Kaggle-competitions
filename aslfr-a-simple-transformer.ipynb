{
 "cells": [
  {
   "cell_type": "markdown",
   "id": "f4564879",
   "metadata": {
    "papermill": {
     "duration": 0.013721,
     "end_time": "2023-06-21T04:53:24.107755",
     "exception": false,
     "start_time": "2023-06-21T04:53:24.094034",
     "status": "completed"
    },
    "tags": []
   },
   "source": [
    "\n",
    "\n",
    "1. I used two transformer layer in the encoder instead of four.\n",
    "2. I used four attention heads instead of two.\n",
    "3. I used new tokens for SOS, EOS, and padding (very minor since Rohith used rare tokens for these purposes, but still- more 'correct').\n",
    "2. I fixed a bug (probably?) in the decoder's dropout layers, which did not have the training flag, resulting in dropout during inference. This change gave a nice bump in the score.\n",
    "3. I made the passing of the training flag explicit. I know it can be implicit since it is a kwarg, but explicit passing makes the whole thing more straightforward and maybe fix another one or two training-flag-related bugs along the way.\n",
    "4. I changed the positional encoding in the decoder from tf.keras.layers.Embedding to proper positional embeddings (i.e., the usual sines and cosines usually used for this purpose). This had a significant impact.\n",
    "5. I added positional embedding to the encoder. This, too, had a significant impact.\n"
   ]
  },
  {
   "cell_type": "code",
   "execution_count": 1,
   "id": "9743e540",
   "metadata": {
    "collapsed": true,
    "execution": {
     "iopub.execute_input": "2023-06-21T04:53:24.135676Z",
     "iopub.status.busy": "2023-06-21T04:53:24.134900Z",
     "iopub.status.idle": "2023-06-21T04:53:33.483156Z",
     "shell.execute_reply": "2023-06-21T04:53:33.482174Z"
    },
    "jupyter": {
     "outputs_hidden": true
    },
    "papermill": {
     "duration": 9.364947,
     "end_time": "2023-06-21T04:53:33.485562",
     "exception": false,
     "start_time": "2023-06-21T04:53:24.120615",
     "status": "completed"
    },
    "tags": []
   },
   "outputs": [
    {
     "name": "stderr",
     "output_type": "stream",
     "text": [
      "/opt/conda/lib/python3.10/site-packages/tensorflow_io/python/ops/__init__.py:98: UserWarning: unable to load libtensorflow_io_plugins.so: unable to open file: libtensorflow_io_plugins.so, from paths: ['/opt/conda/lib/python3.10/site-packages/tensorflow_io/python/ops/libtensorflow_io_plugins.so']\n",
      "caused by: ['/opt/conda/lib/python3.10/site-packages/tensorflow_io/python/ops/libtensorflow_io_plugins.so: undefined symbol: _ZN3tsl6StatusC1EN10tensorflow5error4CodeESt17basic_string_viewIcSt11char_traitsIcEENS_14SourceLocationE']\n",
      "  warnings.warn(f\"unable to load libtensorflow_io_plugins.so: {e}\")\n",
      "/opt/conda/lib/python3.10/site-packages/tensorflow_io/python/ops/__init__.py:104: UserWarning: file system plugins are not loaded: unable to open file: libtensorflow_io.so, from paths: ['/opt/conda/lib/python3.10/site-packages/tensorflow_io/python/ops/libtensorflow_io.so']\n",
      "caused by: ['/opt/conda/lib/python3.10/site-packages/tensorflow_io/python/ops/libtensorflow_io.so: undefined symbol: _ZTVN10tensorflow13GcsFileSystemE']\n",
      "  warnings.warn(f\"file system plugins are not loaded: {e}\")\n"
     ]
    }
   ],
   "source": [
    "import pandas as pd\n",
    "import numpy as np\n",
    "import tensorflow as tf\n",
    "from tensorflow import keras\n",
    "from tensorflow.keras import layers\n",
    "from skimage.transform import resize\n",
    "from sklearn.model_selection import train_test_split\n",
    "import json\n",
    "from tqdm import tqdm\n",
    "import matplotlib.pyplot as plt\n",
    "import Levenshtein as lev\n",
    "import os\n",
    "import gc"
   ]
  },
  {
   "cell_type": "code",
   "execution_count": 2,
   "id": "82a252c3",
   "metadata": {
    "execution": {
     "iopub.execute_input": "2023-06-21T04:53:33.513884Z",
     "iopub.status.busy": "2023-06-21T04:53:33.513242Z",
     "iopub.status.idle": "2023-06-21T04:53:33.696613Z",
     "shell.execute_reply": "2023-06-21T04:53:33.695602Z"
    },
    "papermill": {
     "duration": 0.199654,
     "end_time": "2023-06-21T04:53:33.698682",
     "exception": false,
     "start_time": "2023-06-21T04:53:33.499028",
     "status": "completed"
    },
    "tags": []
   },
   "outputs": [
    {
     "data": {
      "text/html": [
       "<div>\n",
       "<style scoped>\n",
       "    .dataframe tbody tr th:only-of-type {\n",
       "        vertical-align: middle;\n",
       "    }\n",
       "\n",
       "    .dataframe tbody tr th {\n",
       "        vertical-align: top;\n",
       "    }\n",
       "\n",
       "    .dataframe thead th {\n",
       "        text-align: right;\n",
       "    }\n",
       "</style>\n",
       "<table border=\"1\" class=\"dataframe\">\n",
       "  <thead>\n",
       "    <tr style=\"text-align: right;\">\n",
       "      <th></th>\n",
       "      <th>path</th>\n",
       "      <th>file_id</th>\n",
       "      <th>sequence_id</th>\n",
       "      <th>participant_id</th>\n",
       "      <th>phrase</th>\n",
       "      <th>phrase_bytes</th>\n",
       "    </tr>\n",
       "  </thead>\n",
       "  <tbody>\n",
       "    <tr>\n",
       "      <th>0</th>\n",
       "      <td>train_landmarks/5414471.parquet</td>\n",
       "      <td>5414471</td>\n",
       "      <td>1816796431</td>\n",
       "      <td>217</td>\n",
       "      <td>3 creekhouse</td>\n",
       "      <td>b'3 creekhouse'</td>\n",
       "    </tr>\n",
       "    <tr>\n",
       "      <th>1</th>\n",
       "      <td>train_landmarks/5414471.parquet</td>\n",
       "      <td>5414471</td>\n",
       "      <td>1816825349</td>\n",
       "      <td>107</td>\n",
       "      <td>scales/kuhaylah</td>\n",
       "      <td>b'scales/kuhaylah'</td>\n",
       "    </tr>\n",
       "    <tr>\n",
       "      <th>2</th>\n",
       "      <td>train_landmarks/5414471.parquet</td>\n",
       "      <td>5414471</td>\n",
       "      <td>1816909464</td>\n",
       "      <td>1</td>\n",
       "      <td>1383 william lanier</td>\n",
       "      <td>b'1383 william lanier'</td>\n",
       "    </tr>\n",
       "    <tr>\n",
       "      <th>3</th>\n",
       "      <td>train_landmarks/5414471.parquet</td>\n",
       "      <td>5414471</td>\n",
       "      <td>1816967051</td>\n",
       "      <td>63</td>\n",
       "      <td>988 franklin lane</td>\n",
       "      <td>b'988 franklin lane'</td>\n",
       "    </tr>\n",
       "    <tr>\n",
       "      <th>4</th>\n",
       "      <td>train_landmarks/5414471.parquet</td>\n",
       "      <td>5414471</td>\n",
       "      <td>1817123330</td>\n",
       "      <td>89</td>\n",
       "      <td>6920 northeast 661st road</td>\n",
       "      <td>b'6920 northeast 661st road'</td>\n",
       "    </tr>\n",
       "  </tbody>\n",
       "</table>\n",
       "</div>"
      ],
      "text/plain": [
       "                              path  file_id  sequence_id  participant_id  \\\n",
       "0  train_landmarks/5414471.parquet  5414471   1816796431             217   \n",
       "1  train_landmarks/5414471.parquet  5414471   1816825349             107   \n",
       "2  train_landmarks/5414471.parquet  5414471   1816909464               1   \n",
       "3  train_landmarks/5414471.parquet  5414471   1816967051              63   \n",
       "4  train_landmarks/5414471.parquet  5414471   1817123330              89   \n",
       "\n",
       "                      phrase                  phrase_bytes  \n",
       "0               3 creekhouse               b'3 creekhouse'  \n",
       "1            scales/kuhaylah            b'scales/kuhaylah'  \n",
       "2        1383 william lanier        b'1383 william lanier'  \n",
       "3          988 franklin lane          b'988 franklin lane'  \n",
       "4  6920 northeast 661st road  b'6920 northeast 661st road'  "
      ]
     },
     "metadata": {},
     "output_type": "display_data"
    }
   ],
   "source": [
    "inpdir = \"/kaggle/input/asl-fingerspelling\"\n",
    "df = pd.read_csv(f'{inpdir}/train.csv')\n",
    "df[\"phrase_bytes\"] = df[\"phrase\"].map(lambda x: x.encode(\"utf-8\"))\n",
    "display(df.head())"
   ]
  },
  {
   "cell_type": "code",
   "execution_count": 3,
   "id": "40ed2af9",
   "metadata": {
    "collapsed": true,
    "execution": {
     "iopub.execute_input": "2023-06-21T04:53:33.726562Z",
     "iopub.status.busy": "2023-06-21T04:53:33.726237Z",
     "iopub.status.idle": "2023-06-21T04:53:49.002078Z",
     "shell.execute_reply": "2023-06-21T04:53:49.001187Z"
    },
    "jupyter": {
     "outputs_hidden": true
    },
    "papermill": {
     "duration": 15.29239,
     "end_time": "2023-06-21T04:53:49.004304",
     "exception": false,
     "start_time": "2023-06-21T04:53:33.711914",
     "status": "completed"
    },
    "tags": []
   },
   "outputs": [
    {
     "data": {
      "text/html": [
       "<div>\n",
       "<style scoped>\n",
       "    .dataframe tbody tr th:only-of-type {\n",
       "        vertical-align: middle;\n",
       "    }\n",
       "\n",
       "    .dataframe tbody tr th {\n",
       "        vertical-align: top;\n",
       "    }\n",
       "\n",
       "    .dataframe thead th {\n",
       "        text-align: right;\n",
       "    }\n",
       "</style>\n",
       "<table border=\"1\" class=\"dataframe\">\n",
       "  <thead>\n",
       "    <tr style=\"text-align: right;\">\n",
       "      <th></th>\n",
       "      <th>frame</th>\n",
       "      <th>x_face_0</th>\n",
       "      <th>x_face_1</th>\n",
       "      <th>x_face_2</th>\n",
       "      <th>x_face_3</th>\n",
       "      <th>x_face_4</th>\n",
       "      <th>x_face_5</th>\n",
       "      <th>x_face_6</th>\n",
       "      <th>x_face_7</th>\n",
       "      <th>x_face_8</th>\n",
       "      <th>...</th>\n",
       "      <th>z_right_hand_11</th>\n",
       "      <th>z_right_hand_12</th>\n",
       "      <th>z_right_hand_13</th>\n",
       "      <th>z_right_hand_14</th>\n",
       "      <th>z_right_hand_15</th>\n",
       "      <th>z_right_hand_16</th>\n",
       "      <th>z_right_hand_17</th>\n",
       "      <th>z_right_hand_18</th>\n",
       "      <th>z_right_hand_19</th>\n",
       "      <th>z_right_hand_20</th>\n",
       "    </tr>\n",
       "    <tr>\n",
       "      <th>sequence_id</th>\n",
       "      <th></th>\n",
       "      <th></th>\n",
       "      <th></th>\n",
       "      <th></th>\n",
       "      <th></th>\n",
       "      <th></th>\n",
       "      <th></th>\n",
       "      <th></th>\n",
       "      <th></th>\n",
       "      <th></th>\n",
       "      <th></th>\n",
       "      <th></th>\n",
       "      <th></th>\n",
       "      <th></th>\n",
       "      <th></th>\n",
       "      <th></th>\n",
       "      <th></th>\n",
       "      <th></th>\n",
       "      <th></th>\n",
       "      <th></th>\n",
       "      <th></th>\n",
       "    </tr>\n",
       "  </thead>\n",
       "  <tbody>\n",
       "    <tr>\n",
       "      <th>1975433633</th>\n",
       "      <td>0</td>\n",
       "      <td>0.578892</td>\n",
       "      <td>0.578482</td>\n",
       "      <td>0.582906</td>\n",
       "      <td>0.572686</td>\n",
       "      <td>0.579030</td>\n",
       "      <td>0.582115</td>\n",
       "      <td>0.591430</td>\n",
       "      <td>0.498995</td>\n",
       "      <td>0.595773</td>\n",
       "      <td>...</td>\n",
       "      <td>-0.253687</td>\n",
       "      <td>-0.291687</td>\n",
       "      <td>-0.123892</td>\n",
       "      <td>-0.195255</td>\n",
       "      <td>-0.249135</td>\n",
       "      <td>-0.284375</td>\n",
       "      <td>-0.125050</td>\n",
       "      <td>-0.187797</td>\n",
       "      <td>-0.224827</td>\n",
       "      <td>-0.249662</td>\n",
       "    </tr>\n",
       "    <tr>\n",
       "      <th>1975433633</th>\n",
       "      <td>1</td>\n",
       "      <td>0.577563</td>\n",
       "      <td>0.578528</td>\n",
       "      <td>0.582916</td>\n",
       "      <td>0.572760</td>\n",
       "      <td>0.579090</td>\n",
       "      <td>0.582197</td>\n",
       "      <td>0.591687</td>\n",
       "      <td>0.497613</td>\n",
       "      <td>0.596104</td>\n",
       "      <td>...</td>\n",
       "      <td>NaN</td>\n",
       "      <td>NaN</td>\n",
       "      <td>NaN</td>\n",
       "      <td>NaN</td>\n",
       "      <td>NaN</td>\n",
       "      <td>NaN</td>\n",
       "      <td>NaN</td>\n",
       "      <td>NaN</td>\n",
       "      <td>NaN</td>\n",
       "      <td>NaN</td>\n",
       "    </tr>\n",
       "    <tr>\n",
       "      <th>1975433633</th>\n",
       "      <td>2</td>\n",
       "      <td>0.576181</td>\n",
       "      <td>0.576949</td>\n",
       "      <td>0.581346</td>\n",
       "      <td>0.572293</td>\n",
       "      <td>0.577725</td>\n",
       "      <td>0.581191</td>\n",
       "      <td>0.591550</td>\n",
       "      <td>0.497113</td>\n",
       "      <td>0.596477</td>\n",
       "      <td>...</td>\n",
       "      <td>-0.233556</td>\n",
       "      <td>-0.267114</td>\n",
       "      <td>-0.116145</td>\n",
       "      <td>-0.179053</td>\n",
       "      <td>-0.223861</td>\n",
       "      <td>-0.253004</td>\n",
       "      <td>-0.122090</td>\n",
       "      <td>-0.173169</td>\n",
       "      <td>-0.200727</td>\n",
       "      <td>-0.219106</td>\n",
       "    </tr>\n",
       "    <tr>\n",
       "      <th>1975433633</th>\n",
       "      <td>3</td>\n",
       "      <td>0.575575</td>\n",
       "      <td>0.577569</td>\n",
       "      <td>0.581769</td>\n",
       "      <td>0.572443</td>\n",
       "      <td>0.578289</td>\n",
       "      <td>0.581652</td>\n",
       "      <td>0.591728</td>\n",
       "      <td>0.496759</td>\n",
       "      <td>0.596573</td>\n",
       "      <td>...</td>\n",
       "      <td>-0.190909</td>\n",
       "      <td>-0.218471</td>\n",
       "      <td>-0.093956</td>\n",
       "      <td>-0.149982</td>\n",
       "      <td>-0.188452</td>\n",
       "      <td>-0.211573</td>\n",
       "      <td>-0.102759</td>\n",
       "      <td>-0.147642</td>\n",
       "      <td>-0.168562</td>\n",
       "      <td>-0.180578</td>\n",
       "    </tr>\n",
       "    <tr>\n",
       "      <th>1975433633</th>\n",
       "      <td>4</td>\n",
       "      <td>0.577907</td>\n",
       "      <td>0.577628</td>\n",
       "      <td>0.582295</td>\n",
       "      <td>0.572930</td>\n",
       "      <td>0.578345</td>\n",
       "      <td>0.581873</td>\n",
       "      <td>0.592467</td>\n",
       "      <td>0.498170</td>\n",
       "      <td>0.597383</td>\n",
       "      <td>...</td>\n",
       "      <td>NaN</td>\n",
       "      <td>NaN</td>\n",
       "      <td>NaN</td>\n",
       "      <td>NaN</td>\n",
       "      <td>NaN</td>\n",
       "      <td>NaN</td>\n",
       "      <td>NaN</td>\n",
       "      <td>NaN</td>\n",
       "      <td>NaN</td>\n",
       "      <td>NaN</td>\n",
       "    </tr>\n",
       "  </tbody>\n",
       "</table>\n",
       "<p>5 rows × 1630 columns</p>\n",
       "</div>"
      ],
      "text/plain": [
       "             frame  x_face_0  x_face_1  x_face_2  x_face_3  x_face_4  \\\n",
       "sequence_id                                                            \n",
       "1975433633       0  0.578892  0.578482  0.582906  0.572686  0.579030   \n",
       "1975433633       1  0.577563  0.578528  0.582916  0.572760  0.579090   \n",
       "1975433633       2  0.576181  0.576949  0.581346  0.572293  0.577725   \n",
       "1975433633       3  0.575575  0.577569  0.581769  0.572443  0.578289   \n",
       "1975433633       4  0.577907  0.577628  0.582295  0.572930  0.578345   \n",
       "\n",
       "             x_face_5  x_face_6  x_face_7  x_face_8  ...  z_right_hand_11  \\\n",
       "sequence_id                                          ...                    \n",
       "1975433633   0.582115  0.591430  0.498995  0.595773  ...        -0.253687   \n",
       "1975433633   0.582197  0.591687  0.497613  0.596104  ...              NaN   \n",
       "1975433633   0.581191  0.591550  0.497113  0.596477  ...        -0.233556   \n",
       "1975433633   0.581652  0.591728  0.496759  0.596573  ...        -0.190909   \n",
       "1975433633   0.581873  0.592467  0.498170  0.597383  ...              NaN   \n",
       "\n",
       "             z_right_hand_12  z_right_hand_13  z_right_hand_14  \\\n",
       "sequence_id                                                      \n",
       "1975433633         -0.291687        -0.123892        -0.195255   \n",
       "1975433633               NaN              NaN              NaN   \n",
       "1975433633         -0.267114        -0.116145        -0.179053   \n",
       "1975433633         -0.218471        -0.093956        -0.149982   \n",
       "1975433633               NaN              NaN              NaN   \n",
       "\n",
       "             z_right_hand_15  z_right_hand_16  z_right_hand_17  \\\n",
       "sequence_id                                                      \n",
       "1975433633         -0.249135        -0.284375        -0.125050   \n",
       "1975433633               NaN              NaN              NaN   \n",
       "1975433633         -0.223861        -0.253004        -0.122090   \n",
       "1975433633         -0.188452        -0.211573        -0.102759   \n",
       "1975433633               NaN              NaN              NaN   \n",
       "\n",
       "             z_right_hand_18  z_right_hand_19  z_right_hand_20  \n",
       "sequence_id                                                     \n",
       "1975433633         -0.187797        -0.224827        -0.249662  \n",
       "1975433633               NaN              NaN              NaN  \n",
       "1975433633         -0.173169        -0.200727        -0.219106  \n",
       "1975433633         -0.147642        -0.168562        -0.180578  \n",
       "1975433633               NaN              NaN              NaN  \n",
       "\n",
       "[5 rows x 1630 columns]"
      ]
     },
     "execution_count": 3,
     "metadata": {},
     "output_type": "execute_result"
    }
   ],
   "source": [
    "train_landmarks = pd.read_parquet('/kaggle/input/asl-fingerspelling/train_landmarks/1019715464.parquet')\n",
    "keys = train_landmarks.keys()[1:]\n",
    "train_landmarks.head()"
   ]
  },
  {
   "cell_type": "markdown",
   "id": "d1a6146f",
   "metadata": {
    "papermill": {
     "duration": 0.013027,
     "end_time": "2023-06-21T04:53:49.031789",
     "exception": false,
     "start_time": "2023-06-21T04:53:49.018762",
     "status": "completed"
    },
    "tags": []
   },
   "source": [
    "# TFRecord"
   ]
  },
  {
   "cell_type": "code",
   "execution_count": 4,
   "id": "268ff649",
   "metadata": {
    "execution": {
     "iopub.execute_input": "2023-06-21T04:53:49.059557Z",
     "iopub.status.busy": "2023-06-21T04:53:49.059231Z",
     "iopub.status.idle": "2023-06-21T04:53:49.072172Z",
     "shell.execute_reply": "2023-06-21T04:53:49.071317Z"
    },
    "papermill": {
     "duration": 0.029335,
     "end_time": "2023-06-21T04:53:49.074313",
     "exception": false,
     "start_time": "2023-06-21T04:53:49.044978",
     "status": "completed"
    },
    "tags": []
   },
   "outputs": [
    {
     "name": "stdout",
     "output_type": "stream",
     "text": [
      "SEL_COLS size:156\n"
     ]
    }
   ],
   "source": [
    "LPOSE = [13, 15, 17, 19, 21]\n",
    "RPOSE = [14, 16, 18, 20, 22]\n",
    "POSE = LPOSE + RPOSE\n",
    "\n",
    "RHAND_LBLS = [f'x_right_hand_{i}' for i in range(21)] + [f'y_right_hand_{i}' for i in range(21)] + [f'z_right_hand_{i}' for i in range(21)]\n",
    "LHAND_LBLS = [ f'x_left_hand_{i}' for i in range(21)] + [ f'y_left_hand_{i}' for i in range(21)] + [ f'z_left_hand_{i}' for i in range(21)]\n",
    "POSE_LBLS = [f'x_pose_{i}' for i in POSE] + [f'y_pose_{i}' for i in POSE] + [f'z_pose_{i}' for i in POSE]\n",
    "\n",
    "X = [f'x_right_hand_{i}' for i in range(21)] + [f'x_left_hand_{i}' for i in range(21)] + [f'x_pose_{i}' for i in POSE]\n",
    "Y = [f'y_right_hand_{i}' for i in range(21)] + [f'y_left_hand_{i}' for i in range(21)] + [f'y_pose_{i}' for i in POSE]\n",
    "Z = [f'z_right_hand_{i}' for i in range(21)] + [f'z_left_hand_{i}' for i in range(21)] + [f'z_pose_{i}' for i in POSE]\n",
    "\n",
    "SEL_COLS = X + Y + Z\n",
    "FRAME_LEN = 128\n",
    "\n",
    "X_IDX = [i for i, col in enumerate(SEL_COLS)  if \"x_\" in col]\n",
    "Y_IDX = [i for i, col in enumerate(SEL_COLS)  if \"y_\" in col]\n",
    "Z_IDX = [i for i, col in enumerate(SEL_COLS)  if \"z_\" in col]\n",
    "\n",
    "RHAND_IDX = [i for i, col in enumerate(SEL_COLS)  if \"right\" in col]\n",
    "LHAND_IDX = [i for i, col in enumerate(SEL_COLS)  if  \"left\" in col]\n",
    "RPOSE_IDX = [i for i, col in enumerate(SEL_COLS)  if  \"pose\" in col and int(col[-2:]) in RPOSE]\n",
    "LPOSE_IDX = [i for i, col in enumerate(SEL_COLS)  if  \"pose\" in col and int(col[-2:]) in LPOSE]\n",
    "\n",
    "print('SEL_COLS size:' + str(len(SEL_COLS)))"
   ]
  },
  {
   "cell_type": "code",
   "execution_count": 5,
   "id": "90bbb5b7",
   "metadata": {
    "collapsed": true,
    "execution": {
     "iopub.execute_input": "2023-06-21T04:53:49.102449Z",
     "iopub.status.busy": "2023-06-21T04:53:49.101980Z",
     "iopub.status.idle": "2023-06-21T05:04:23.899592Z",
     "shell.execute_reply": "2023-06-21T05:04:23.898701Z"
    },
    "jupyter": {
     "outputs_hidden": true
    },
    "papermill": {
     "duration": 634.835458,
     "end_time": "2023-06-21T05:04:23.923161",
     "exception": false,
     "start_time": "2023-06-21T04:53:49.087703",
     "status": "completed"
    },
    "tags": []
   },
   "outputs": [
    {
     "name": "stderr",
     "output_type": "stream",
     "text": [
      "  0%|          | 0/68 [00:00<?, ?it/s]"
     ]
    },
    {
     "name": "stdout",
     "output_type": "stream",
     "text": [
      "0\n"
     ]
    },
    {
     "name": "stderr",
     "output_type": "stream",
     "text": [
      "  1%|▏         | 1/68 [00:08<09:46,  8.75s/it]"
     ]
    },
    {
     "name": "stdout",
     "output_type": "stream",
     "text": [
      "1\n"
     ]
    },
    {
     "name": "stderr",
     "output_type": "stream",
     "text": [
      "  3%|▎         | 2/68 [00:19<10:37,  9.65s/it]"
     ]
    },
    {
     "name": "stdout",
     "output_type": "stream",
     "text": [
      "2\n"
     ]
    },
    {
     "name": "stderr",
     "output_type": "stream",
     "text": [
      "  4%|▍         | 3/68 [00:28<10:08,  9.36s/it]"
     ]
    },
    {
     "name": "stdout",
     "output_type": "stream",
     "text": [
      "3\n"
     ]
    },
    {
     "name": "stderr",
     "output_type": "stream",
     "text": [
      "  6%|▌         | 4/68 [00:37<09:56,  9.32s/it]"
     ]
    },
    {
     "name": "stdout",
     "output_type": "stream",
     "text": [
      "4\n"
     ]
    },
    {
     "name": "stderr",
     "output_type": "stream",
     "text": [
      "  7%|▋         | 5/68 [00:47<09:57,  9.48s/it]"
     ]
    },
    {
     "name": "stdout",
     "output_type": "stream",
     "text": [
      "5\n"
     ]
    },
    {
     "name": "stderr",
     "output_type": "stream",
     "text": [
      "  9%|▉         | 6/68 [00:56<09:43,  9.42s/it]"
     ]
    },
    {
     "name": "stdout",
     "output_type": "stream",
     "text": [
      "6\n"
     ]
    },
    {
     "name": "stderr",
     "output_type": "stream",
     "text": [
      " 10%|█         | 7/68 [01:05<09:27,  9.31s/it]"
     ]
    },
    {
     "name": "stdout",
     "output_type": "stream",
     "text": [
      "7\n"
     ]
    },
    {
     "name": "stderr",
     "output_type": "stream",
     "text": [
      " 12%|█▏        | 8/68 [01:14<09:19,  9.32s/it]"
     ]
    },
    {
     "name": "stdout",
     "output_type": "stream",
     "text": [
      "8\n"
     ]
    },
    {
     "name": "stderr",
     "output_type": "stream",
     "text": [
      " 13%|█▎        | 9/68 [01:25<09:34,  9.73s/it]"
     ]
    },
    {
     "name": "stdout",
     "output_type": "stream",
     "text": [
      "9\n"
     ]
    },
    {
     "name": "stderr",
     "output_type": "stream",
     "text": [
      " 15%|█▍        | 10/68 [01:34<09:16,  9.59s/it]"
     ]
    },
    {
     "name": "stdout",
     "output_type": "stream",
     "text": [
      "10\n"
     ]
    },
    {
     "name": "stderr",
     "output_type": "stream",
     "text": [
      " 16%|█▌        | 11/68 [01:44<09:03,  9.54s/it]"
     ]
    },
    {
     "name": "stdout",
     "output_type": "stream",
     "text": [
      "11\n"
     ]
    },
    {
     "name": "stderr",
     "output_type": "stream",
     "text": [
      " 18%|█▊        | 12/68 [01:54<09:03,  9.70s/it]"
     ]
    },
    {
     "name": "stdout",
     "output_type": "stream",
     "text": [
      "12\n"
     ]
    },
    {
     "name": "stderr",
     "output_type": "stream",
     "text": [
      " 19%|█▉        | 13/68 [02:03<08:43,  9.51s/it]"
     ]
    },
    {
     "name": "stdout",
     "output_type": "stream",
     "text": [
      "13\n"
     ]
    },
    {
     "name": "stderr",
     "output_type": "stream",
     "text": [
      " 21%|██        | 14/68 [02:06<06:44,  7.48s/it]"
     ]
    },
    {
     "name": "stdout",
     "output_type": "stream",
     "text": [
      "14\n"
     ]
    },
    {
     "name": "stderr",
     "output_type": "stream",
     "text": [
      " 22%|██▏       | 15/68 [02:15<07:06,  8.04s/it]"
     ]
    },
    {
     "name": "stdout",
     "output_type": "stream",
     "text": [
      "15\n"
     ]
    },
    {
     "name": "stderr",
     "output_type": "stream",
     "text": [
      " 24%|██▎       | 16/68 [02:25<07:34,  8.74s/it]"
     ]
    },
    {
     "name": "stdout",
     "output_type": "stream",
     "text": [
      "16\n"
     ]
    },
    {
     "name": "stderr",
     "output_type": "stream",
     "text": [
      " 25%|██▌       | 17/68 [02:34<07:30,  8.83s/it]"
     ]
    },
    {
     "name": "stdout",
     "output_type": "stream",
     "text": [
      "17\n"
     ]
    },
    {
     "name": "stderr",
     "output_type": "stream",
     "text": [
      " 26%|██▋       | 18/68 [02:43<07:25,  8.91s/it]"
     ]
    },
    {
     "name": "stdout",
     "output_type": "stream",
     "text": [
      "18\n"
     ]
    },
    {
     "name": "stderr",
     "output_type": "stream",
     "text": [
      " 28%|██▊       | 19/68 [02:52<07:14,  8.86s/it]"
     ]
    },
    {
     "name": "stdout",
     "output_type": "stream",
     "text": [
      "19\n"
     ]
    },
    {
     "name": "stderr",
     "output_type": "stream",
     "text": [
      " 29%|██▉       | 20/68 [03:02<07:19,  9.16s/it]"
     ]
    },
    {
     "name": "stdout",
     "output_type": "stream",
     "text": [
      "20\n"
     ]
    },
    {
     "name": "stderr",
     "output_type": "stream",
     "text": [
      " 31%|███       | 21/68 [03:11<07:10,  9.16s/it]"
     ]
    },
    {
     "name": "stdout",
     "output_type": "stream",
     "text": [
      "21\n"
     ]
    },
    {
     "name": "stderr",
     "output_type": "stream",
     "text": [
      " 32%|███▏      | 22/68 [03:21<07:11,  9.38s/it]"
     ]
    },
    {
     "name": "stdout",
     "output_type": "stream",
     "text": [
      "22\n"
     ]
    },
    {
     "name": "stderr",
     "output_type": "stream",
     "text": [
      " 34%|███▍      | 23/68 [03:31<07:05,  9.46s/it]"
     ]
    },
    {
     "name": "stdout",
     "output_type": "stream",
     "text": [
      "23\n"
     ]
    },
    {
     "name": "stderr",
     "output_type": "stream",
     "text": [
      " 35%|███▌      | 24/68 [03:40<06:59,  9.52s/it]"
     ]
    },
    {
     "name": "stdout",
     "output_type": "stream",
     "text": [
      "24\n"
     ]
    },
    {
     "name": "stderr",
     "output_type": "stream",
     "text": [
      " 37%|███▋      | 25/68 [03:50<06:46,  9.45s/it]"
     ]
    },
    {
     "name": "stdout",
     "output_type": "stream",
     "text": [
      "25\n"
     ]
    },
    {
     "name": "stderr",
     "output_type": "stream",
     "text": [
      " 38%|███▊      | 26/68 [03:59<06:41,  9.57s/it]"
     ]
    },
    {
     "name": "stdout",
     "output_type": "stream",
     "text": [
      "26\n"
     ]
    },
    {
     "name": "stderr",
     "output_type": "stream",
     "text": [
      " 40%|███▉      | 27/68 [04:08<06:24,  9.38s/it]"
     ]
    },
    {
     "name": "stdout",
     "output_type": "stream",
     "text": [
      "27\n"
     ]
    },
    {
     "name": "stderr",
     "output_type": "stream",
     "text": [
      " 41%|████      | 28/68 [04:17<06:09,  9.24s/it]"
     ]
    },
    {
     "name": "stdout",
     "output_type": "stream",
     "text": [
      "28\n"
     ]
    },
    {
     "name": "stderr",
     "output_type": "stream",
     "text": [
      " 43%|████▎     | 29/68 [04:27<06:04,  9.34s/it]"
     ]
    },
    {
     "name": "stdout",
     "output_type": "stream",
     "text": [
      "29\n"
     ]
    },
    {
     "name": "stderr",
     "output_type": "stream",
     "text": [
      " 44%|████▍     | 30/68 [04:37<06:01,  9.52s/it]"
     ]
    },
    {
     "name": "stdout",
     "output_type": "stream",
     "text": [
      "30\n"
     ]
    },
    {
     "name": "stderr",
     "output_type": "stream",
     "text": [
      " 46%|████▌     | 31/68 [04:46<05:50,  9.46s/it]"
     ]
    },
    {
     "name": "stdout",
     "output_type": "stream",
     "text": [
      "31\n"
     ]
    },
    {
     "name": "stderr",
     "output_type": "stream",
     "text": [
      " 47%|████▋     | 32/68 [04:55<05:30,  9.19s/it]"
     ]
    },
    {
     "name": "stdout",
     "output_type": "stream",
     "text": [
      "32\n"
     ]
    },
    {
     "name": "stderr",
     "output_type": "stream",
     "text": [
      " 49%|████▊     | 33/68 [05:05<05:31,  9.46s/it]"
     ]
    },
    {
     "name": "stdout",
     "output_type": "stream",
     "text": [
      "33\n"
     ]
    },
    {
     "name": "stderr",
     "output_type": "stream",
     "text": [
      " 50%|█████     | 34/68 [05:14<05:16,  9.30s/it]"
     ]
    },
    {
     "name": "stdout",
     "output_type": "stream",
     "text": [
      "34\n"
     ]
    },
    {
     "name": "stderr",
     "output_type": "stream",
     "text": [
      " 51%|█████▏    | 35/68 [05:24<05:12,  9.46s/it]"
     ]
    },
    {
     "name": "stdout",
     "output_type": "stream",
     "text": [
      "35\n"
     ]
    },
    {
     "name": "stderr",
     "output_type": "stream",
     "text": [
      " 53%|█████▎    | 36/68 [05:33<05:00,  9.38s/it]"
     ]
    },
    {
     "name": "stdout",
     "output_type": "stream",
     "text": [
      "36\n"
     ]
    },
    {
     "name": "stderr",
     "output_type": "stream",
     "text": [
      " 54%|█████▍    | 37/68 [05:42<04:49,  9.33s/it]"
     ]
    },
    {
     "name": "stdout",
     "output_type": "stream",
     "text": [
      "37\n"
     ]
    },
    {
     "name": "stderr",
     "output_type": "stream",
     "text": [
      " 56%|█████▌    | 38/68 [05:50<04:31,  9.05s/it]"
     ]
    },
    {
     "name": "stdout",
     "output_type": "stream",
     "text": [
      "38\n"
     ]
    },
    {
     "name": "stderr",
     "output_type": "stream",
     "text": [
      " 57%|█████▋    | 39/68 [05:59<04:21,  9.03s/it]"
     ]
    },
    {
     "name": "stdout",
     "output_type": "stream",
     "text": [
      "39\n"
     ]
    },
    {
     "name": "stderr",
     "output_type": "stream",
     "text": [
      " 59%|█████▉    | 40/68 [06:09<04:19,  9.28s/it]"
     ]
    },
    {
     "name": "stdout",
     "output_type": "stream",
     "text": [
      "40\n"
     ]
    },
    {
     "name": "stderr",
     "output_type": "stream",
     "text": [
      " 60%|██████    | 41/68 [06:18<04:10,  9.26s/it]"
     ]
    },
    {
     "name": "stdout",
     "output_type": "stream",
     "text": [
      "41\n"
     ]
    },
    {
     "name": "stderr",
     "output_type": "stream",
     "text": [
      " 62%|██████▏   | 42/68 [06:28<04:05,  9.43s/it]"
     ]
    },
    {
     "name": "stdout",
     "output_type": "stream",
     "text": [
      "42\n"
     ]
    },
    {
     "name": "stderr",
     "output_type": "stream",
     "text": [
      " 63%|██████▎   | 43/68 [06:38<03:56,  9.45s/it]"
     ]
    },
    {
     "name": "stdout",
     "output_type": "stream",
     "text": [
      "43\n"
     ]
    },
    {
     "name": "stderr",
     "output_type": "stream",
     "text": [
      " 65%|██████▍   | 44/68 [06:47<03:44,  9.34s/it]"
     ]
    },
    {
     "name": "stdout",
     "output_type": "stream",
     "text": [
      "44\n"
     ]
    },
    {
     "name": "stderr",
     "output_type": "stream",
     "text": [
      " 66%|██████▌   | 45/68 [06:56<03:35,  9.36s/it]"
     ]
    },
    {
     "name": "stdout",
     "output_type": "stream",
     "text": [
      "45\n"
     ]
    },
    {
     "name": "stderr",
     "output_type": "stream",
     "text": [
      " 68%|██████▊   | 46/68 [07:05<03:23,  9.26s/it]"
     ]
    },
    {
     "name": "stdout",
     "output_type": "stream",
     "text": [
      "46\n"
     ]
    },
    {
     "name": "stderr",
     "output_type": "stream",
     "text": [
      " 69%|██████▉   | 47/68 [07:15<03:18,  9.43s/it]"
     ]
    },
    {
     "name": "stdout",
     "output_type": "stream",
     "text": [
      "47\n"
     ]
    },
    {
     "name": "stderr",
     "output_type": "stream",
     "text": [
      " 71%|███████   | 48/68 [07:25<03:12,  9.61s/it]"
     ]
    },
    {
     "name": "stdout",
     "output_type": "stream",
     "text": [
      "48\n"
     ]
    },
    {
     "name": "stderr",
     "output_type": "stream",
     "text": [
      " 72%|███████▏  | 49/68 [07:35<03:01,  9.57s/it]"
     ]
    },
    {
     "name": "stdout",
     "output_type": "stream",
     "text": [
      "49\n"
     ]
    },
    {
     "name": "stderr",
     "output_type": "stream",
     "text": [
      " 74%|███████▎  | 50/68 [07:45<02:54,  9.68s/it]"
     ]
    },
    {
     "name": "stdout",
     "output_type": "stream",
     "text": [
      "50\n"
     ]
    },
    {
     "name": "stderr",
     "output_type": "stream",
     "text": [
      " 75%|███████▌  | 51/68 [07:54<02:41,  9.48s/it]"
     ]
    },
    {
     "name": "stdout",
     "output_type": "stream",
     "text": [
      "51\n"
     ]
    },
    {
     "name": "stderr",
     "output_type": "stream",
     "text": [
      " 76%|███████▋  | 52/68 [08:03<02:28,  9.31s/it]"
     ]
    },
    {
     "name": "stdout",
     "output_type": "stream",
     "text": [
      "52\n"
     ]
    },
    {
     "name": "stderr",
     "output_type": "stream",
     "text": [
      " 78%|███████▊  | 53/68 [08:12<02:18,  9.27s/it]"
     ]
    },
    {
     "name": "stdout",
     "output_type": "stream",
     "text": [
      "53\n"
     ]
    },
    {
     "name": "stderr",
     "output_type": "stream",
     "text": [
      " 79%|███████▉  | 54/68 [08:22<02:12,  9.47s/it]"
     ]
    },
    {
     "name": "stdout",
     "output_type": "stream",
     "text": [
      "54\n"
     ]
    },
    {
     "name": "stderr",
     "output_type": "stream",
     "text": [
      " 81%|████████  | 55/68 [08:31<02:01,  9.37s/it]"
     ]
    },
    {
     "name": "stdout",
     "output_type": "stream",
     "text": [
      "55\n"
     ]
    },
    {
     "name": "stderr",
     "output_type": "stream",
     "text": [
      " 82%|████████▏ | 56/68 [08:40<01:51,  9.27s/it]"
     ]
    },
    {
     "name": "stdout",
     "output_type": "stream",
     "text": [
      "56\n"
     ]
    },
    {
     "name": "stderr",
     "output_type": "stream",
     "text": [
      " 84%|████████▍ | 57/68 [08:50<01:43,  9.41s/it]"
     ]
    },
    {
     "name": "stdout",
     "output_type": "stream",
     "text": [
      "57\n"
     ]
    },
    {
     "name": "stderr",
     "output_type": "stream",
     "text": [
      " 85%|████████▌ | 58/68 [08:59<01:33,  9.32s/it]"
     ]
    },
    {
     "name": "stdout",
     "output_type": "stream",
     "text": [
      "58\n"
     ]
    },
    {
     "name": "stderr",
     "output_type": "stream",
     "text": [
      " 87%|████████▋ | 59/68 [09:08<01:23,  9.33s/it]"
     ]
    },
    {
     "name": "stdout",
     "output_type": "stream",
     "text": [
      "59\n"
     ]
    },
    {
     "name": "stderr",
     "output_type": "stream",
     "text": [
      " 88%|████████▊ | 60/68 [09:18<01:16,  9.62s/it]"
     ]
    },
    {
     "name": "stdout",
     "output_type": "stream",
     "text": [
      "60\n"
     ]
    },
    {
     "name": "stderr",
     "output_type": "stream",
     "text": [
      " 90%|████████▉ | 61/68 [09:28<01:08,  9.78s/it]"
     ]
    },
    {
     "name": "stdout",
     "output_type": "stream",
     "text": [
      "61\n"
     ]
    },
    {
     "name": "stderr",
     "output_type": "stream",
     "text": [
      " 91%|█████████ | 62/68 [09:38<00:57,  9.59s/it]"
     ]
    },
    {
     "name": "stdout",
     "output_type": "stream",
     "text": [
      "62\n"
     ]
    },
    {
     "name": "stderr",
     "output_type": "stream",
     "text": [
      " 93%|█████████▎| 63/68 [09:47<00:47,  9.59s/it]"
     ]
    },
    {
     "name": "stdout",
     "output_type": "stream",
     "text": [
      "63\n"
     ]
    },
    {
     "name": "stderr",
     "output_type": "stream",
     "text": [
      " 94%|█████████▍| 64/68 [09:57<00:38,  9.54s/it]"
     ]
    },
    {
     "name": "stdout",
     "output_type": "stream",
     "text": [
      "64\n"
     ]
    },
    {
     "name": "stderr",
     "output_type": "stream",
     "text": [
      " 96%|█████████▌| 65/68 [10:06<00:28,  9.49s/it]"
     ]
    },
    {
     "name": "stdout",
     "output_type": "stream",
     "text": [
      "65\n"
     ]
    },
    {
     "name": "stderr",
     "output_type": "stream",
     "text": [
      " 97%|█████████▋| 66/68 [10:15<00:18,  9.32s/it]"
     ]
    },
    {
     "name": "stdout",
     "output_type": "stream",
     "text": [
      "66\n"
     ]
    },
    {
     "name": "stderr",
     "output_type": "stream",
     "text": [
      " 99%|█████████▊| 67/68 [10:25<00:09,  9.58s/it]"
     ]
    },
    {
     "name": "stdout",
     "output_type": "stream",
     "text": [
      "67\n"
     ]
    },
    {
     "name": "stderr",
     "output_type": "stream",
     "text": [
      "100%|██████████| 68/68 [10:34<00:00,  9.33s/it]\n"
     ]
    }
   ],
   "source": [
    "def load_relevant_data_subset(pq_path):\n",
    "    return pd.read_parquet(pq_path, columns=SEL_COLS)\n",
    "\n",
    "counter = 0\n",
    "for file_id in tqdm(df.file_id.unique()):\n",
    "    \n",
    "    print(counter)\n",
    "    counter+=1\n",
    "    \n",
    "    pqfile = f\"{inpdir}/train_landmarks/{file_id}.parquet\"\n",
    "    if not os.path.isdir(\"tfds\"): os.mkdir(\"tfds\")\n",
    "    tffile = f\"tfds/{file_id}.tfrecord\"\n",
    "    seq_refs = df.loc[df.file_id == file_id]\n",
    "    seqs = load_relevant_data_subset(pqfile)\n",
    "    seqs_numpy = seqs.to_numpy()\n",
    "    with tf.io.TFRecordWriter(tffile) as file_writer:\n",
    "        for seq_id, phrase in zip(seq_refs.sequence_id, seq_refs.phrase_bytes):\n",
    "            frames = seqs_numpy[seqs.index == seq_id]\n",
    "            \n",
    "            r_nonan = np.sum(np.sum(np.isnan(frames[:, RHAND_IDX]), axis = 1) == 0)\n",
    "            l_nonan = np.sum(np.sum(np.isnan(frames[:, LHAND_IDX]), axis = 1) == 0)\n",
    "            no_nan = max(r_nonan, l_nonan)\n",
    "            \n",
    "            if 2*len(phrase)<no_nan:\n",
    "                features = {SEL_COLS[i]: tf.train.Feature(\n",
    "                    float_list=tf.train.FloatList(value=frames[:, i])) for i in range(len(SEL_COLS))}\n",
    "                features[\"phrase\"] = tf.train.Feature(bytes_list=tf.train.BytesList(value=[phrase]))\n",
    "                record_bytes = tf.train.Example(features=tf.train.Features(feature=features)).SerializeToString()\n",
    "                file_writer.write(record_bytes)"
   ]
  },
  {
   "cell_type": "markdown",
   "id": "7876ddc0",
   "metadata": {
    "papermill": {
     "duration": 0.02292,
     "end_time": "2023-06-21T05:04:23.969275",
     "exception": false,
     "start_time": "2023-06-21T05:04:23.946355",
     "status": "completed"
    },
    "tags": []
   },
   "source": [
    "# Data loading"
   ]
  },
  {
   "cell_type": "markdown",
   "id": "51a62183",
   "metadata": {
    "papermill": {
     "duration": 0.022735,
     "end_time": "2023-06-21T05:04:24.015455",
     "exception": false,
     "start_time": "2023-06-21T05:04:23.992720",
     "status": "completed"
    },
    "tags": []
   },
   "source": [
    "#### Here I use new tokens for padding, start and end of sentences. (Capitals are good since the original phrases have only lower case letters, besides numbers and various signs)."
   ]
  },
  {
   "cell_type": "code",
   "execution_count": 6,
   "id": "c94e0f07",
   "metadata": {
    "execution": {
     "iopub.execute_input": "2023-06-21T05:04:24.063983Z",
     "iopub.status.busy": "2023-06-21T05:04:24.063632Z",
     "iopub.status.idle": "2023-06-21T05:04:24.068583Z",
     "shell.execute_reply": "2023-06-21T05:04:24.067440Z"
    },
    "papermill": {
     "duration": 0.032358,
     "end_time": "2023-06-21T05:04:24.070744",
     "exception": false,
     "start_time": "2023-06-21T05:04:24.038386",
     "status": "completed"
    },
    "tags": []
   },
   "outputs": [],
   "source": [
    "pad_token = 'P'\n",
    "start_token = 'S'\n",
    "end_token = 'E'\n",
    "pad_token_idx = 59\n",
    "start_token_idx = 60\n",
    "end_token_idx = 61"
   ]
  },
  {
   "cell_type": "code",
   "execution_count": 7,
   "id": "4f935bdc",
   "metadata": {
    "execution": {
     "iopub.execute_input": "2023-06-21T05:04:24.119565Z",
     "iopub.status.busy": "2023-06-21T05:04:24.119235Z",
     "iopub.status.idle": "2023-06-21T05:04:24.266811Z",
     "shell.execute_reply": "2023-06-21T05:04:24.264946Z"
    },
    "papermill": {
     "duration": 0.174765,
     "end_time": "2023-06-21T05:04:24.269086",
     "exception": false,
     "start_time": "2023-06-21T05:04:24.094321",
     "status": "completed"
    },
    "tags": []
   },
   "outputs": [
    {
     "name": "stdout",
     "output_type": "stream",
     "text": [
      "[47, 48, 49, 50, 51, 99, 100, 101, 102, 103, 151, 152, 153, 154, 155]\n"
     ]
    }
   ],
   "source": [
    "with open (\"/kaggle/input/asl-fingerspelling/character_to_prediction_index.json\", \"r\") as f:\n",
    "    char_to_num = json.load(f)\n",
    "\n",
    "\n",
    "char_to_num[pad_token] = pad_token_idx\n",
    "char_to_num[start_token] = start_token_idx\n",
    "char_to_num[end_token] = end_token_idx\n",
    "\n",
    "num_to_char = {j:i for i,j in char_to_num.items()}\n",
    "\n",
    "\n",
    "inpdir = \"/kaggle/input/asl-fingerspelling\"\n",
    "df = pd.read_csv(f'{inpdir}/train.csv')\n",
    "\n",
    "LPOSE = [13, 15, 17, 19, 21]\n",
    "RPOSE = [14, 16, 18, 20, 22]\n",
    "POSE = LPOSE + RPOSE\n",
    "\n",
    "RHAND_LBLS = [f'x_right_hand_{i}' for i in range(21)] + [f'y_right_hand_{i}' for i in range(21)] + [f'z_right_hand_{i}' for i in range(21)]\n",
    "LHAND_LBLS = [ f'x_left_hand_{i}' for i in range(21)] + [ f'y_left_hand_{i}' for i in range(21)] + [ f'z_left_hand_{i}' for i in range(21)]\n",
    "POSE_LBLS = [f'x_pose_{i}' for i in POSE] + [f'y_pose_{i}' for i in POSE] + [f'z_pose_{i}' for i in POSE]\n",
    "\n",
    "X = [f'x_right_hand_{i}' for i in range(21)] + [f'x_left_hand_{i}' for i in range(21)] + [f'x_pose_{i}' for i in POSE]\n",
    "Y = [f'y_right_hand_{i}' for i in range(21)] + [f'y_left_hand_{i}' for i in range(21)] + [f'y_pose_{i}' for i in POSE]\n",
    "Z = [f'z_right_hand_{i}' for i in range(21)] + [f'z_left_hand_{i}' for i in range(21)] + [f'z_pose_{i}' for i in POSE]\n",
    "\n",
    "SEL_COLS = X + Y + Z\n",
    "FRAME_LEN = 128\n",
    "\n",
    "X_IDX = [i for i, col in enumerate(SEL_COLS)  if \"x_\" in col]\n",
    "Y_IDX = [i for i, col in enumerate(SEL_COLS)  if \"y_\" in col]\n",
    "Z_IDX = [i for i, col in enumerate(SEL_COLS)  if \"z_\" in col]\n",
    "\n",
    "RHAND_IDX = [i for i, col in enumerate(SEL_COLS)  if \"right\" in col]\n",
    "LHAND_IDX = [i for i, col in enumerate(SEL_COLS)  if  \"left\" in col]\n",
    "RPOSE_IDX = [i for i, col in enumerate(SEL_COLS)  if  \"pose\" in col and int(col[-2:]) in RPOSE]\n",
    "LPOSE_IDX = [i for i, col in enumerate(SEL_COLS)  if  \"pose\" in col and int(col[-2:]) in LPOSE]\n",
    "\n",
    "print(RPOSE_IDX)"
   ]
  },
  {
   "cell_type": "markdown",
   "id": "5af4d153",
   "metadata": {
    "papermill": {
     "duration": 0.023154,
     "end_time": "2023-06-21T05:04:24.315934",
     "exception": false,
     "start_time": "2023-06-21T05:04:24.292780",
     "status": "completed"
    },
    "tags": []
   },
   "source": [
    "{0: ' ', 1: '!', 2: '#', 3: '$', 4: '%', 5: '&', 6: \"'\", 7: '(', 8: ')', 9: '*', 10: '+', 11: ',', 12: '-', 13: '.', 14: '/', 15: '0', 16: '1', 17: '2', 18: '3', 19: '4', 20: '5', 21: '6', 22: '7', 23: '8', 24: '9', 25: ':', 26: ';', 27: '=', 28: '?', 29: '@', 30: '[', 31: '_', 32: 'a', 33: 'b', 34: 'c', 35: 'd', 36: 'e', 37: 'f', 38: 'g', 39: 'h', 40: 'i', 41: 'j', 42: 'k', 43: 'l', 44: 'm', 45: 'n', 46: 'o', 47: 'p', 48: 'q', 49: 'r', 50: 's', 51: 't', 52: 'u', 53: 'v', 54: 'w', 55: 'x', 56: 'y', 57: 'z', 58: '~', 59: 'P', 60: 'S', 61: 'E'}\n",
    "add Codeadd Markdown"
   ]
  },
  {
   "cell_type": "code",
   "execution_count": 8,
   "id": "34d85aab",
   "metadata": {
    "execution": {
     "iopub.execute_input": "2023-06-21T05:04:24.365284Z",
     "iopub.status.busy": "2023-06-21T05:04:24.364949Z",
     "iopub.status.idle": "2023-06-21T05:04:24.383365Z",
     "shell.execute_reply": "2023-06-21T05:04:24.382438Z"
    },
    "papermill": {
     "duration": 0.046303,
     "end_time": "2023-06-21T05:04:24.385430",
     "exception": false,
     "start_time": "2023-06-21T05:04:24.339127",
     "status": "completed"
    },
    "tags": []
   },
   "outputs": [],
   "source": [
    "def resize_pad(x):\n",
    "    if tf.shape(x)[0] < FRAME_LEN:\n",
    "        x = tf.pad(x, ([[0, FRAME_LEN-tf.shape(x)[0]], [0, 0], [0, 0]]))\n",
    "        print(x)\n",
    "    else:\n",
    "        x = tf.image.resize(x, (FRAME_LEN, tf.shape(x)[1]))\n",
    "    return x\n",
    "\n",
    "def pre_process(x):\n",
    "    rhand = tf.gather(x, RHAND_IDX, axis=1)\n",
    "    lhand = tf.gather(x, LHAND_IDX, axis=1)\n",
    "    rpose = tf.gather(x, RPOSE_IDX, axis=1)\n",
    "    lpose = tf.gather(x, LPOSE_IDX, axis=1)\n",
    "    \n",
    "    rnan_idx = tf.reduce_any(tf.math.is_nan(rhand), axis=1)\n",
    "    lnan_idx = tf.reduce_any(tf.math.is_nan(lhand), axis=1)\n",
    "    \n",
    "    rnans = tf.math.count_nonzero(rnan_idx)\n",
    "    lnans = tf.math.count_nonzero(lnan_idx)\n",
    "    \n",
    "    # For dominant hand\n",
    "    if rnans > lnans:\n",
    "        hand = lhand\n",
    "        pose = lpose\n",
    "        \n",
    "        hand_x = hand[:, 0*(len(LHAND_IDX)//3) : 1*(len(LHAND_IDX)//3)]\n",
    "        hand_y = hand[:, 1*(len(LHAND_IDX)//3) : 2*(len(LHAND_IDX)//3)]\n",
    "        hand_z = hand[:, 2*(len(LHAND_IDX)//3) : 3*(len(LHAND_IDX)//3)]\n",
    "        hand = tf.concat([1-hand_x, hand_y, hand_z], axis=1)\n",
    "        \n",
    "        pose_x = pose[:, 0*(len(LPOSE_IDX)//3) : 1*(len(LPOSE_IDX)//3)]\n",
    "        pose_y = pose[:, 1*(len(LPOSE_IDX)//3) : 2*(len(LPOSE_IDX)//3)]\n",
    "        pose_z = pose[:, 2*(len(LPOSE_IDX)//3) : 3*(len(LPOSE_IDX)//3)]\n",
    "        pose = tf.concat([1-pose_x, pose_y, pose_z], axis=1)\n",
    "    else:\n",
    "        hand = rhand\n",
    "        pose = rpose\n",
    "    \n",
    "    hand_x = hand[:, 0*(len(LHAND_IDX)//3) : 1*(len(LHAND_IDX)//3)]\n",
    "    hand_y = hand[:, 1*(len(LHAND_IDX)//3) : 2*(len(LHAND_IDX)//3)]\n",
    "    hand_z = hand[:, 2*(len(LHAND_IDX)//3) : 3*(len(LHAND_IDX)//3)]\n",
    "    hand = tf.concat([hand_x[..., tf.newaxis], hand_y[..., tf.newaxis], hand_z[..., tf.newaxis]], axis=-1)\n",
    "    \n",
    "    mean = tf.math.reduce_mean(hand, axis=1)[:, tf.newaxis, :]\n",
    "    std = tf.math.reduce_std(hand, axis=1)[:, tf.newaxis, :]\n",
    "    hand = (hand - mean) / std\n",
    "\n",
    "    pose_x = pose[:, 0*(len(LPOSE_IDX)//3) : 1*(len(LPOSE_IDX)//3)]\n",
    "    pose_y = pose[:, 1*(len(LPOSE_IDX)//3) : 2*(len(LPOSE_IDX)//3)]\n",
    "    pose_z = pose[:, 2*(len(LPOSE_IDX)//3) : 3*(len(LPOSE_IDX)//3)]\n",
    "    pose = tf.concat([pose_x[..., tf.newaxis], pose_y[..., tf.newaxis], pose_z[..., tf.newaxis]], axis=-1)\n",
    "    \n",
    "    x = tf.concat([hand, pose], axis=1)\n",
    "    x = resize_pad(x)\n",
    "    \n",
    "    x = tf.where(tf.math.is_nan(x), tf.zeros_like(x), x)\n",
    "    x = tf.reshape(x, (FRAME_LEN, len(LHAND_IDX) + len(LPOSE_IDX)))\n",
    "    return x"
   ]
  },
  {
   "cell_type": "code",
   "execution_count": 9,
   "id": "c85764a9",
   "metadata": {
    "execution": {
     "iopub.execute_input": "2023-06-21T05:04:24.433717Z",
     "iopub.status.busy": "2023-06-21T05:04:24.433397Z",
     "iopub.status.idle": "2023-06-21T05:04:28.955164Z",
     "shell.execute_reply": "2023-06-21T05:04:28.954187Z"
    },
    "papermill": {
     "duration": 4.549301,
     "end_time": "2023-06-21T05:04:28.958157",
     "exception": false,
     "start_time": "2023-06-21T05:04:24.408856",
     "status": "completed"
    },
    "tags": []
   },
   "outputs": [
    {
     "name": "stdout",
     "output_type": "stream",
     "text": [
      "Tensor(\"cond_1/Pad:0\", shape=(None, 26, 3), dtype=float32)\n",
      "Tensor(\"cond_1/Pad:0\", shape=(None, 26, 3), dtype=float32)\n"
     ]
    }
   ],
   "source": [
    "table = tf.lookup.StaticHashTable(\n",
    "    initializer=tf.lookup.KeyValueTensorInitializer(\n",
    "        keys=list(char_to_num.keys()),\n",
    "        values=list(char_to_num.values()),\n",
    "    ),\n",
    "    default_value=tf.constant(-1),\n",
    "    name=\"class_weight\"\n",
    ")\n",
    "\n",
    "def preprocess_fn(landmarks, phrase):\n",
    "    phrase = start_token + phrase + end_token\n",
    "    phrase = tf.strings.bytes_split(phrase)\n",
    "    phrase = table.lookup(phrase)\n",
    "    phrase = tf.pad(phrase, paddings=[[0, 64 - tf.shape(phrase)[0]]], mode = 'CONSTANT',\n",
    "                    constant_values = pad_token_idx)\n",
    "    return pre_process(landmarks), phrase\n",
    "\n",
    "def decode_fn(record_bytes):\n",
    "    schema = {COL: tf.io.VarLenFeature(dtype=tf.float32) for COL in SEL_COLS}\n",
    "    schema[\"phrase\"] = tf.io.FixedLenFeature([], dtype=tf.string)\n",
    "    features = tf.io.parse_single_example(record_bytes, schema)\n",
    "    phrase = features[\"phrase\"]\n",
    "    landmarks = ([tf.sparse.to_dense(features[COL]) for COL in SEL_COLS])\n",
    "    landmarks = tf.transpose(landmarks)\n",
    "    \n",
    "    return landmarks, phrase\n",
    "\n",
    "inpdir = \"/kaggle/input/aslfr-parquets-to-tfrecords-cleaned\"\n",
    "tffiles = df.file_id.map(lambda x: f'{inpdir}/tfds/{x}.tfrecord').unique()\n",
    "\n",
    "batch_size = 32\n",
    "val_len = int(0.05 * len(tffiles))\n",
    "\n",
    "train_dataset = tf.data.TFRecordDataset(tffiles[val_len:]).map(decode_fn).map(preprocess_fn).shuffle(30000, reshuffle_each_iteration=True).batch(batch_size).prefetch(buffer_size=tf.data.AUTOTUNE)\n",
    "val_dataset = tf.data.TFRecordDataset(tffiles[:val_len]).map(decode_fn).map(preprocess_fn).batch(batch_size).prefetch(buffer_size=tf.data.AUTOTUNE)"
   ]
  },
  {
   "cell_type": "markdown",
   "id": "79d6d8aa",
   "metadata": {
    "papermill": {
     "duration": 0.023173,
     "end_time": "2023-06-21T05:04:29.006110",
     "exception": false,
     "start_time": "2023-06-21T05:04:28.982937",
     "status": "completed"
    },
    "tags": []
   },
   "source": [
    "# The model"
   ]
  },
  {
   "cell_type": "markdown",
   "id": "4058ae85",
   "metadata": {
    "papermill": {
     "duration": 0.023318,
     "end_time": "2023-06-21T05:04:29.052824",
     "exception": false,
     "start_time": "2023-06-21T05:04:29.029506",
     "status": "completed"
    },
    "tags": []
   },
   "source": []
  },
  {
   "attachments": {
    "39ec8854-9e5f-4617-aa6a-69098b605134.png": {
     "image/png": "[encoded data removed]"
    },
    "e865f0c6-0e14-4387-9779-537f8b3d065d.png": {
     "image/png": "[encoded data removed]"
    }
   },
   "cell_type": "markdown",
   "id": "b0515782",
   "metadata": {
    "papermill": {
     "duration": 0.023105,
     "end_time": "2023-06-21T05:04:29.099105",
     "exception": false,
     "start_time": "2023-06-21T05:04:29.076000",
     "status": "completed"
    },
    "tags": []
   },
   "source": [
    "![image.png](attachment:e865f0c6-0e14-4387-9779-537f8b3d065d.png)\n",
    "![image.png](attachment:39ec8854-9e5f-4617-aa6a-69098b605134.png)"
   ]
  },
  {
   "cell_type": "markdown",
   "id": "49191b23",
   "metadata": {
    "papermill": {
     "duration": 0.023443,
     "end_time": "2023-06-21T05:04:29.145899",
     "exception": false,
     "start_time": "2023-06-21T05:04:29.122456",
     "status": "completed"
    },
    "tags": []
   },
   "source": [
    "#### Here I implemented proper positional embeddings for both the encoder and the decoder."
   ]
  },
  {
   "cell_type": "code",
   "execution_count": 10,
   "id": "194a00c2",
   "metadata": {
    "execution": {
     "iopub.execute_input": "2023-06-21T05:04:29.195335Z",
     "iopub.status.busy": "2023-06-21T05:04:29.194450Z",
     "iopub.status.idle": "2023-06-21T05:04:29.205775Z",
     "shell.execute_reply": "2023-06-21T05:04:29.204918Z"
    },
    "papermill": {
     "duration": 0.038215,
     "end_time": "2023-06-21T05:04:29.207769",
     "exception": false,
     "start_time": "2023-06-21T05:04:29.169554",
     "status": "completed"
    },
    "tags": []
   },
   "outputs": [],
   "source": [
    "class TokenEmbedding(layers.Layer):\n",
    "    def __init__(self, num_vocab=1000, maxlen=100, num_hid=64):\n",
    "        super().__init__()\n",
    "        self.num_hid = num_hid\n",
    "        self.emb = tf.keras.layers.Embedding(num_vocab, num_hid)\n",
    "        #self.pos_emb = layers.Embedding(input_dim=maxlen, output_dim=num_hid)\n",
    "        '''\n",
    "        self.pos_emb = tf.math.divide(\n",
    "            self.positional_encoding(maxlen-1, num_hid),\n",
    "            tf.math.sqrt(tf.cast(num_hid, tf.float32)))\n",
    "        '''\n",
    "        self.pos_emb = self.positional_encoding(maxlen-1, num_hid)\n",
    "\n",
    "    def call(self, x):\n",
    "        maxlen = tf.shape(x)[-1]\n",
    "        x = self.emb(x)\n",
    "        x = tf.math.multiply(x, tf.math.sqrt(tf.cast(self.num_hid, tf.float32)))\n",
    "        '''\n",
    "        positions = tf.range(start=0, limit=maxlen, delta=1)\n",
    "        positions = self.pos_emb(positions)\n",
    "        return x + positions\n",
    "        '''\n",
    "        return x + self.pos_emb[:maxlen, :]\n",
    "    \n",
    "    def positional_encoding(self, maxlen, num_hid):\n",
    "        depth = num_hid/2\n",
    "        positions = tf.range(maxlen, dtype = tf.float32)[..., tf.newaxis]\n",
    "        depths = tf.range(depth, dtype = tf.float32)[np.newaxis, :]/depth\n",
    "        angle_rates = tf.math.divide(1, tf.math.pow(tf.cast(10000, tf.float32), depths))\n",
    "        angle_rads = tf.linalg.matmul(positions, angle_rates)\n",
    "        pos_encoding = tf.concat(\n",
    "          [tf.math.sin(angle_rads), tf.math.cos(angle_rads)],\n",
    "          axis=-1) \n",
    "        return pos_encoding\n",
    "\n",
    "\n"
   ]
  },
  {
   "cell_type": "code",
   "execution_count": 11,
   "id": "56579f9c",
   "metadata": {
    "execution": {
     "iopub.execute_input": "2023-06-21T05:04:29.256318Z",
     "iopub.status.busy": "2023-06-21T05:04:29.255513Z",
     "iopub.status.idle": "2023-06-21T05:04:29.266286Z",
     "shell.execute_reply": "2023-06-21T05:04:29.265421Z"
    },
    "papermill": {
     "duration": 0.037326,
     "end_time": "2023-06-21T05:04:29.268286",
     "exception": false,
     "start_time": "2023-06-21T05:04:29.230960",
     "status": "completed"
    },
    "tags": []
   },
   "outputs": [],
   "source": [
    "class LandmarkEmbedding(layers.Layer):\n",
    "    def __init__(self, num_hid=64, maxlen=100):\n",
    "        super().__init__()\n",
    "        self.conv1 = tf.keras.layers.Conv1D(\n",
    "            num_hid, 11, padding=\"same\", activation=\"relu\"\n",
    "        )\n",
    "        self.conv2 = tf.keras.layers.Conv1D(\n",
    "            num_hid, 11, padding=\"same\", activation=\"relu\"\n",
    "        )\n",
    "        self.conv3 = tf.keras.layers.Conv1D(\n",
    "            num_hid, 11, padding=\"same\", activation=\"relu\"\n",
    "        )\n",
    "        self.pos_emb = self.positional_encoding(maxlen, num_hid)\n",
    "        self.maxlen = maxlen\n",
    "        self.num_hid = num_hid\n",
    "\n",
    "    def call(self, x):\n",
    "        x = self.conv1(x)\n",
    "        x = self.conv2(x)\n",
    "        x = self.conv3(x)\n",
    "        \n",
    "        x = tf.math.multiply(x, tf.math.sqrt(tf.cast(self.num_hid, tf.float32)))\n",
    "        x = x + self.pos_emb\n",
    "        \n",
    "        return x\n",
    "    \n",
    "    def positional_encoding(self, maxlen, num_hid):\n",
    "        depth = num_hid/2\n",
    "        positions = tf.range(maxlen, dtype = tf.float32)[..., tf.newaxis]\n",
    "        depths = tf.range(depth, dtype = tf.float32)[np.newaxis, :]/depth\n",
    "        angle_rates = tf.math.divide(1, tf.math.pow(tf.cast(10000, tf.float32), depths))\n",
    "        angle_rads = tf.linalg.matmul(positions, angle_rates)\n",
    "        pos_encoding = tf.concat(\n",
    "          [tf.math.sin(angle_rads), tf.math.cos(angle_rads)],\n",
    "          axis=-1) \n",
    "        return pos_encoding"
   ]
  },
  {
   "cell_type": "code",
   "execution_count": 12,
   "id": "d88d34ee",
   "metadata": {
    "execution": {
     "iopub.execute_input": "2023-06-21T05:04:29.317630Z",
     "iopub.status.busy": "2023-06-21T05:04:29.316169Z",
     "iopub.status.idle": "2023-06-21T05:04:29.324761Z",
     "shell.execute_reply": "2023-06-21T05:04:29.323903Z"
    },
    "papermill": {
     "duration": 0.034921,
     "end_time": "2023-06-21T05:04:29.326677",
     "exception": false,
     "start_time": "2023-06-21T05:04:29.291756",
     "status": "completed"
    },
    "tags": []
   },
   "outputs": [],
   "source": [
    "class TransformerEncoder(layers.Layer):\n",
    "    def __init__(self, embed_dim, num_heads, feed_forward_dim, rate=0.1):\n",
    "        super().__init__()\n",
    "        self.att = layers.MultiHeadAttention(num_heads=num_heads, key_dim=embed_dim)\n",
    "        self.ffn = keras.Sequential(\n",
    "            [\n",
    "                layers.Dense(feed_forward_dim, activation=\"relu\"),\n",
    "                layers.Dense(embed_dim),\n",
    "            ]\n",
    "        )\n",
    "        self.layernorm1 = layers.LayerNormalization(epsilon=1e-6)\n",
    "        self.layernorm2 = layers.LayerNormalization(epsilon=1e-6)\n",
    "        self.dropout1 = layers.Dropout(rate)\n",
    "        self.dropout2 = layers.Dropout(rate)\n",
    "\n",
    "    def call(self, inputs, training):\n",
    "        attn_output = self.att(inputs, inputs)\n",
    "        attn_output = self.dropout1(attn_output, training=training)\n",
    "        out1 = self.layernorm1(inputs + attn_output)\n",
    "        ffn_output = self.ffn(out1)\n",
    "        ffn_output = self.dropout2(ffn_output, training=training)\n",
    "        return self.layernorm2(out1 + ffn_output)"
   ]
  },
  {
   "cell_type": "code",
   "execution_count": 13,
   "id": "adac478f",
   "metadata": {
    "execution": {
     "iopub.execute_input": "2023-06-21T05:04:29.376536Z",
     "iopub.status.busy": "2023-06-21T05:04:29.375662Z",
     "iopub.status.idle": "2023-06-21T05:04:29.390377Z",
     "shell.execute_reply": "2023-06-21T05:04:29.389443Z"
    },
    "papermill": {
     "duration": 0.040898,
     "end_time": "2023-06-21T05:04:29.392332",
     "exception": false,
     "start_time": "2023-06-21T05:04:29.351434",
     "status": "completed"
    },
    "tags": []
   },
   "outputs": [
    {
     "name": "stdout",
     "output_type": "stream",
     "text": [
      "<TFRecordDatasetV2 element_spec=TensorSpec(shape=(), dtype=tf.string, name=None)>\n"
     ]
    }
   ],
   "source": [
    "import tensorflow as tf\n",
    "\n",
    "# TFRecordファイルのパス\n",
    "tfrecord_file = \"/kaggle/working/tfds/128822441.tfrecord\"\n",
    "\n",
    "# TFRecordデータセットの作成\n",
    "dataset = tf.data.TFRecordDataset([tfrecord_file])\n",
    "print(dataset)"
   ]
  },
  {
   "cell_type": "markdown",
   "id": "3667be84",
   "metadata": {
    "papermill": {
     "duration": 0.02356,
     "end_time": "2023-06-21T05:04:29.439205",
     "exception": false,
     "start_time": "2023-06-21T05:04:29.415645",
     "status": "completed"
    },
    "tags": []
   },
   "source": [
    "#### Here I added the training flag to the TransformerDecoder's Dropout layers."
   ]
  },
  {
   "cell_type": "code",
   "execution_count": 14,
   "id": "cdeadde0",
   "metadata": {
    "execution": {
     "iopub.execute_input": "2023-06-21T05:04:29.488224Z",
     "iopub.status.busy": "2023-06-21T05:04:29.487578Z",
     "iopub.status.idle": "2023-06-21T05:04:29.501237Z",
     "shell.execute_reply": "2023-06-21T05:04:29.500275Z"
    },
    "papermill": {
     "duration": 0.040644,
     "end_time": "2023-06-21T05:04:29.503319",
     "exception": false,
     "start_time": "2023-06-21T05:04:29.462675",
     "status": "completed"
    },
    "tags": []
   },
   "outputs": [],
   "source": [
    "class TransformerDecoder(layers.Layer):\n",
    "    def __init__(self, embed_dim, num_heads, feed_forward_dim, dropout_rate=0.1):\n",
    "        super().__init__()\n",
    "        self.layernorm1 = layers.LayerNormalization(epsilon=1e-6)\n",
    "        self.layernorm2 = layers.LayerNormalization(epsilon=1e-6)\n",
    "        self.layernorm3 = layers.LayerNormalization(epsilon=1e-6)\n",
    "        self.self_att = layers.MultiHeadAttention(\n",
    "            num_heads=num_heads, key_dim=embed_dim\n",
    "        )\n",
    "        self.enc_att = layers.MultiHeadAttention(num_heads=num_heads, key_dim=embed_dim)\n",
    "        self.self_dropout = layers.Dropout(0.5)\n",
    "        self.enc_dropout = layers.Dropout(0.1)\n",
    "        self.ffn_dropout = layers.Dropout(0.1)\n",
    "        self.ffn = keras.Sequential(\n",
    "            [\n",
    "                layers.Dense(feed_forward_dim, activation=\"relu\"),\n",
    "                layers.Dense(embed_dim),\n",
    "            ]\n",
    "        )\n",
    "\n",
    "    def causal_attention_mask(self, batch_size, n_dest, n_src, dtype):\n",
    "        \"\"\"Masks the upper half of the dot product matrix in self attention.\n",
    "\n",
    "        This prevents flow of information from future tokens to current token.\n",
    "        1's in the lower triangle, counting from the lower right corner.\n",
    "        \"\"\"\n",
    "        i = tf.range(n_dest)[:, None]\n",
    "        j = tf.range(n_src)\n",
    "        m = i >= j - n_src + n_dest\n",
    "        mask = tf.cast(m, dtype)\n",
    "        mask = tf.reshape(mask, [1, n_dest, n_src])\n",
    "        mult = tf.concat(\n",
    "            [batch_size[..., tf.newaxis], tf.constant([1, 1], dtype=tf.int32)], 0\n",
    "        )\n",
    "        return tf.tile(mask, mult)\n",
    "\n",
    "    def call(self, enc_out, target, training):\n",
    "        input_shape = tf.shape(target)\n",
    "        batch_size = input_shape[0]\n",
    "        seq_len = input_shape[1]\n",
    "        causal_mask = self.causal_attention_mask(batch_size, seq_len, seq_len, tf.bool)\n",
    "        target_att = self.self_att(target, target, attention_mask=causal_mask)\n",
    "        target_norm = self.layernorm1(target + self.self_dropout(target_att, training = training))\n",
    "        enc_out = self.enc_att(target_norm, enc_out)\n",
    "        enc_out_norm = self.layernorm2(self.enc_dropout(enc_out, training = training) + target_norm)\n",
    "        ffn_out = self.ffn(enc_out_norm)\n",
    "        ffn_out_norm = self.layernorm3(enc_out_norm + self.ffn_dropout(ffn_out, training = training))\n",
    "        return ffn_out_norm"
   ]
  },
  {
   "cell_type": "markdown",
   "id": "bbad0cce",
   "metadata": {
    "papermill": {
     "duration": 0.025579,
     "end_time": "2023-06-21T05:04:29.552383",
     "exception": false,
     "start_time": "2023-06-21T05:04:29.526804",
     "status": "completed"
    },
    "tags": []
   },
   "source": [
    "#### Here I made the passing of the training flag explicit."
   ]
  },
  {
   "cell_type": "code",
   "execution_count": 15,
   "id": "f491be9e",
   "metadata": {
    "execution": {
     "iopub.execute_input": "2023-06-21T05:04:29.603165Z",
     "iopub.status.busy": "2023-06-21T05:04:29.602816Z",
     "iopub.status.idle": "2023-06-21T05:04:29.624079Z",
     "shell.execute_reply": "2023-06-21T05:04:29.623206Z"
    },
    "papermill": {
     "duration": 0.048531,
     "end_time": "2023-06-21T05:04:29.626038",
     "exception": false,
     "start_time": "2023-06-21T05:04:29.577507",
     "status": "completed"
    },
    "tags": []
   },
   "outputs": [],
   "source": [
    "class Transformer(keras.Model):\n",
    "    def __init__(\n",
    "        self,\n",
    "        num_hid=64,\n",
    "        num_head=2,\n",
    "        num_feed_forward=128,\n",
    "        source_maxlen=100,\n",
    "        target_maxlen=100,\n",
    "        num_layers_enc=4,\n",
    "        num_layers_dec=1,\n",
    "        num_classes=60,\n",
    "    ):\n",
    "        super().__init__()\n",
    "        self.loss_metric = keras.metrics.Mean(name=\"loss\")\n",
    "        self.num_layers_enc = num_layers_enc\n",
    "        self.num_layers_dec = num_layers_dec\n",
    "        self.target_maxlen = target_maxlen\n",
    "        self.num_classes = num_classes\n",
    "\n",
    "        self.enc_input = LandmarkEmbedding(num_hid=num_hid, maxlen=source_maxlen)\n",
    "        self.dec_input = TokenEmbedding(\n",
    "            num_vocab=num_classes, maxlen=target_maxlen, num_hid=num_hid\n",
    "        )\n",
    "\n",
    "        self.encoder = keras.Sequential(\n",
    "            [self.enc_input]\n",
    "            + [\n",
    "                TransformerEncoder(num_hid, num_head, num_feed_forward)\n",
    "                for _ in range(num_layers_enc)\n",
    "            ]\n",
    "        )\n",
    "\n",
    "        for i in range(num_layers_dec):\n",
    "            setattr(\n",
    "                self,\n",
    "                f\"dec_layer_{i}\",\n",
    "                TransformerDecoder(num_hid, num_head, num_feed_forward),\n",
    "            )\n",
    "\n",
    "        self.classifier = layers.Dense(num_classes)\n",
    "\n",
    "    def decode(self, enc_out, target, training):\n",
    "        y = self.dec_input(target)\n",
    "        for i in range(self.num_layers_dec):\n",
    "            y = getattr(self, f\"dec_layer_{i}\")(enc_out, y, training)\n",
    "        return y\n",
    "\n",
    "    def call(self, inputs, training):\n",
    "        source = inputs[0]\n",
    "        target = inputs[1]\n",
    "        x = self.encoder(source, training)\n",
    "        y = self.decode(x, target, training)\n",
    "        return self.classifier(y)\n",
    "\n",
    "    @property\n",
    "    def metrics(self):\n",
    "        return [self.loss_metric]\n",
    "\n",
    "    def train_step(self, batch):\n",
    "        \"\"\"Processes one batch inside model.fit().\"\"\"\n",
    "        source = batch[0]\n",
    "        target = batch[1]\n",
    "\n",
    "        input_shape = tf.shape(target)\n",
    "        batch_size = input_shape[0]\n",
    "        \n",
    "        dec_input = target[:, :-1]\n",
    "        dec_target = target[:, 1:]\n",
    "        with tf.GradientTape() as tape:\n",
    "            preds = self([source, dec_input])\n",
    "            one_hot = tf.one_hot(dec_target, depth=self.num_classes)\n",
    "            mask = tf.math.logical_not(tf.math.equal(dec_target, pad_token_idx))\n",
    "            loss = self.compiled_loss(one_hot, preds, sample_weight=mask)\n",
    "        trainable_vars = self.trainable_variables\n",
    "        gradients = tape.gradient(loss, trainable_vars)\n",
    "        self.optimizer.apply_gradients(zip(gradients, trainable_vars))\n",
    "        self.loss_metric.update_state(loss)\n",
    "        return {\"loss\": self.loss_metric.result()}\n",
    "\n",
    "    def test_step(self, batch):        \n",
    "        source = batch[0]\n",
    "        target = batch[1]\n",
    "\n",
    "        input_shape = tf.shape(target)\n",
    "        batch_size = input_shape[0]\n",
    "        \n",
    "        dec_input = target[:, :-1]\n",
    "        dec_target = target[:, 1:]\n",
    "        preds = self([source, dec_input])\n",
    "        one_hot = tf.one_hot(dec_target, depth=self.num_classes)\n",
    "        mask = tf.math.logical_not(tf.math.equal(dec_target, pad_token_idx))\n",
    "        loss = self.compiled_loss(one_hot, preds, sample_weight=mask)\n",
    "        self.loss_metric.update_state(loss)\n",
    "        return {\"loss\": self.loss_metric.result()}\n",
    "\n",
    "    def generate(self, source, target_start_token_idx):\n",
    "        \"\"\"Performs inference over one batch of inputs using greedy decoding.\"\"\"\n",
    "        bs = tf.shape(source)[0]\n",
    "        enc = self.encoder(source, training = False)\n",
    "        dec_input = tf.ones((bs, 1), dtype=tf.int32) * target_start_token_idx\n",
    "        dec_logits = []\n",
    "        for i in range(self.target_maxlen - 1):\n",
    "            dec_out = self.decode(enc, dec_input, training = False)\n",
    "            logits = self.classifier(dec_out)\n",
    "            logits = tf.argmax(logits, axis=-1, output_type=tf.int32)\n",
    "            last_logit = logits[:, -1][..., tf.newaxis]\n",
    "            dec_logits.append(last_logit)\n",
    "            dec_input = tf.concat([dec_input, last_logit], axis=-1)\n",
    "        return dec_input"
   ]
  },
  {
   "cell_type": "code",
   "execution_count": 16,
   "id": "39ec105c",
   "metadata": {
    "execution": {
     "iopub.execute_input": "2023-06-21T05:04:29.675740Z",
     "iopub.status.busy": "2023-06-21T05:04:29.675031Z",
     "iopub.status.idle": "2023-06-21T05:04:31.963949Z",
     "shell.execute_reply": "2023-06-21T05:04:31.962978Z"
    },
    "papermill": {
     "duration": 2.316511,
     "end_time": "2023-06-21T05:04:31.966529",
     "exception": false,
     "start_time": "2023-06-21T05:04:29.650018",
     "status": "completed"
    },
    "tags": []
   },
   "outputs": [],
   "source": [
    "batch = next(iter(val_dataset))\n",
    "idx_to_char = list(char_to_num.keys())\n",
    "\n",
    "model = Transformer(\n",
    "    num_hid=200,\n",
    "    num_head=4,\n",
    "    num_feed_forward=400,\n",
    "    source_maxlen = FRAME_LEN,\n",
    "    target_maxlen=64,\n",
    "    num_layers_enc=2,\n",
    "    num_layers_dec=1,\n",
    "    num_classes=62,\n",
    ")\n",
    "\n",
    "\n",
    "loss_fn = tf.keras.losses.CategoricalCrossentropy(from_logits=True, label_smoothing=0.1)\n",
    "\n",
    "\n",
    "optimizer = keras.optimizers.Adam(0.0001)\n",
    "model.compile(optimizer=optimizer, loss=loss_fn)"
   ]
  },
  {
   "cell_type": "code",
   "execution_count": 17,
   "id": "2b0d2483",
   "metadata": {
    "execution": {
     "iopub.execute_input": "2023-06-21T05:04:32.016544Z",
     "iopub.status.busy": "2023-06-21T05:04:32.016202Z",
     "iopub.status.idle": "2023-06-21T06:00:17.308933Z",
     "shell.execute_reply": "2023-06-21T06:00:17.307369Z"
    },
    "papermill": {
     "duration": 3345.322001,
     "end_time": "2023-06-21T06:00:17.313397",
     "exception": false,
     "start_time": "2023-06-21T05:04:31.991396",
     "status": "completed"
    },
    "tags": []
   },
   "outputs": [
    {
     "name": "stdout",
     "output_type": "stream",
     "text": [
      "Epoch 1/20\n",
      "1520/1520 - 181s - loss: 0.7934 - val_loss: 0.6634 - 181s/epoch - 119ms/step\n",
      "Epoch 2/20\n",
      "1520/1520 - 127s - loss: 0.5854 - val_loss: 0.5418 - 127s/epoch - 83ms/step\n",
      "Epoch 3/20\n",
      "1520/1520 - 154s - loss: 0.5155 - val_loss: 0.5030 - 154s/epoch - 102ms/step\n",
      "Epoch 4/20\n",
      "1520/1520 - 161s - loss: 0.4848 - val_loss: 0.4848 - 161s/epoch - 106ms/step\n",
      "Epoch 5/20\n",
      "1520/1520 - 157s - loss: 0.4649 - val_loss: 0.4728 - 157s/epoch - 104ms/step\n",
      "Epoch 6/20\n",
      "1520/1520 - 170s - loss: 0.4500 - val_loss: 0.4661 - 170s/epoch - 112ms/step\n",
      "Epoch 7/20\n",
      "1520/1520 - 160s - loss: 0.4377 - val_loss: 0.4601 - 160s/epoch - 105ms/step\n",
      "Epoch 8/20\n",
      "1520/1520 - 157s - loss: 0.4278 - val_loss: 0.4534 - 157s/epoch - 104ms/step\n",
      "Epoch 9/20\n",
      "1520/1520 - 157s - loss: 0.4185 - val_loss: 0.4485 - 157s/epoch - 104ms/step\n",
      "Epoch 10/20\n",
      "1520/1520 - 161s - loss: 0.4103 - val_loss: 0.4484 - 161s/epoch - 106ms/step\n",
      "Epoch 11/20\n",
      "1520/1520 - 159s - loss: 0.4029 - val_loss: 0.4474 - 159s/epoch - 105ms/step\n",
      "Epoch 12/20\n",
      "1520/1520 - 160s - loss: 0.3959 - val_loss: 0.4469 - 160s/epoch - 105ms/step\n",
      "Epoch 13/20\n",
      "1520/1520 - 162s - loss: 0.3896 - val_loss: 0.4480 - 162s/epoch - 106ms/step\n",
      "Epoch 14/20\n",
      "1520/1520 - 158s - loss: 0.3835 - val_loss: 0.4445 - 158s/epoch - 104ms/step\n",
      "Epoch 15/20\n",
      "1520/1520 - 160s - loss: 0.3777 - val_loss: 0.4469 - 160s/epoch - 105ms/step\n",
      "Epoch 16/20\n",
      "1520/1520 - 160s - loss: 0.3721 - val_loss: 0.4484 - 160s/epoch - 105ms/step\n",
      "Epoch 17/20\n",
      "1520/1520 - 162s - loss: 0.3666 - val_loss: 0.4483 - 162s/epoch - 106ms/step\n",
      "Epoch 18/20\n",
      "1520/1520 - 158s - loss: 0.3614 - val_loss: 0.4519 - 158s/epoch - 104ms/step\n",
      "Epoch 19/20\n",
      "1520/1520 - 158s - loss: 0.3565 - val_loss: 0.4545 - 158s/epoch - 104ms/step\n",
      "Epoch 20/20\n",
      "1520/1520 - 158s - loss: 0.3519 - val_loss: 0.4560 - 158s/epoch - 104ms/step\n",
      "CPU times: user 1h 7min 58s, sys: 4min 18s, total: 1h 12min 17s\n",
      "Wall time: 55min 45s\n"
     ]
    }
   ],
   "source": [
    "%%time\n",
    "history = model.fit(train_dataset, verbose = 2, validation_data=val_dataset, epochs=20)"
   ]
  },
  {
   "cell_type": "code",
   "execution_count": 18,
   "id": "3df1fa12",
   "metadata": {
    "execution": {
     "iopub.execute_input": "2023-06-21T06:00:17.371843Z",
     "iopub.status.busy": "2023-06-21T06:00:17.370143Z",
     "iopub.status.idle": "2023-06-21T06:00:17.415573Z",
     "shell.execute_reply": "2023-06-21T06:00:17.414666Z"
    },
    "papermill": {
     "duration": 0.077188,
     "end_time": "2023-06-21T06:00:17.417572",
     "exception": false,
     "start_time": "2023-06-21T06:00:17.340384",
     "status": "completed"
    },
    "tags": []
   },
   "outputs": [
    {
     "name": "stdout",
     "output_type": "stream",
     "text": [
      "Model: \"transformer\"\n",
      "_________________________________________________________________\n",
      " Layer (type)                Output Shape              Param #   \n",
      "=================================================================\n",
      " landmark_embedding (Landmar  (None, 128, 200)         1052200   \n",
      " kEmbedding)                                                     \n",
      "                                                                 \n",
      " token_embedding (TokenEmbed  multiple                 12400     \n",
      " ding)                                                           \n",
      "                                                                 \n",
      " sequential_2 (Sequential)   (None, 128, 200)          2660200   \n",
      "                                                                 \n",
      " transformer_decoder (Transf  multiple                 1447000   \n",
      " ormerDecoder)                                                   \n",
      "                                                                 \n",
      " dense_6 (Dense)             multiple                  12462     \n",
      "                                                                 \n",
      "=================================================================\n",
      "Total params: 4,132,064\n",
      "Trainable params: 4,132,062\n",
      "Non-trainable params: 2\n",
      "_________________________________________________________________\n",
      "None\n"
     ]
    }
   ],
   "source": [
    "print(model.summary())"
   ]
  },
  {
   "cell_type": "code",
   "execution_count": 19,
   "id": "320e624b",
   "metadata": {
    "execution": {
     "iopub.execute_input": "2023-06-21T06:00:17.475727Z",
     "iopub.status.busy": "2023-06-21T06:00:17.475425Z",
     "iopub.status.idle": "2023-06-21T06:00:17.798246Z",
     "shell.execute_reply": "2023-06-21T06:00:17.797367Z"
    },
    "papermill": {
     "duration": 0.355217,
     "end_time": "2023-06-21T06:00:17.800482",
     "exception": false,
     "start_time": "2023-06-21T06:00:17.445265",
     "status": "completed"
    },
    "tags": []
   },
   "outputs": [
    {
     "data": {
      "text/plain": [
       "[<matplotlib.lines.Line2D at 0x7e8ca1db4400>]"
      ]
     },
     "execution_count": 19,
     "metadata": {},
     "output_type": "execute_result"
    },
    {
     "data": {
      "image/png": "[encoded data removed]",
      "text/plain": [
       "<Figure size 640x480 with 1 Axes>"
      ]
     },
     "metadata": {},
     "output_type": "display_data"
    }
   ],
   "source": [
    "plt.plot(history.history['loss'])\n",
    "plt.plot(history.history['val_loss'])"
   ]
  },
  {
   "cell_type": "markdown",
   "id": "729f133f",
   "metadata": {
    "papermill": {
     "duration": 0.029868,
     "end_time": "2023-06-21T06:00:17.859209",
     "exception": false,
     "start_time": "2023-06-21T06:00:17.829341",
     "status": "completed"
    },
    "tags": []
   },
   "source": [
    "# Validation"
   ]
  },
  {
   "cell_type": "code",
   "execution_count": 20,
   "id": "412c736e",
   "metadata": {
    "execution": {
     "iopub.execute_input": "2023-06-21T06:00:17.918087Z",
     "iopub.status.busy": "2023-06-21T06:00:17.917745Z",
     "iopub.status.idle": "2023-06-21T06:00:23.353751Z",
     "shell.execute_reply": "2023-06-21T06:00:23.352292Z"
    },
    "papermill": {
     "duration": 5.468288,
     "end_time": "2023-06-21T06:00:23.355908",
     "exception": false,
     "start_time": "2023-06-21T06:00:17.887620",
     "status": "completed"
    },
    "tags": []
   },
   "outputs": [
    {
     "name": "stdout",
     "output_type": "stream",
     "text": [
      "S3 creekhouseE\n",
      "S33 creek houseE\n",
      "\n",
      "~~~\n",
      "\n",
      "Sscales/kuhaylahE\n",
      "Ssales s guhay haylaE\n",
      "\n",
      "~~~\n",
      "\n",
      "S1383 william lanierE\n",
      "S1386 william leanierE\n",
      "\n",
      "~~~\n",
      "\n",
      "S988 franklin laneE\n",
      "S988 frankan laneE\n",
      "\n",
      "~~~\n",
      "\n",
      "S6920 northeast 661st roadE\n",
      "S6920 northeast 661st roadE\n",
      "\n",
      "~~~\n",
      "\n",
      "Swww.freem.ne.jpE\n",
      "Swww.frem.mee.jpE\n",
      "\n",
      "~~~\n",
      "\n",
      "Shttps://jsi.is/hukuokaE\n",
      "Shttps://jssi.is/hkurokurokaE\n",
      "\n",
      "~~~\n",
      "\n",
      "S239613 stolze streetE\n",
      "S23961 3 stold streetE\n",
      "\n",
      "~~~\n",
      "\n",
      "S271097 bayshore boulevardE\n",
      "S271097 bay pore boulevardE\n",
      "\n",
      "~~~\n",
      "\n",
      "Sfederico pearsonE\n",
      "Sfederico pearonE\n",
      "\n",
      "~~~\n",
      "\n"
     ]
    }
   ],
   "source": [
    "batches = [batch for batch in val_dataset]\n",
    "\n",
    "preds_list = []\n",
    "ground_truth_list = []\n",
    "\n",
    "for batch in batches[:1]:\n",
    "    source = batch[0]\n",
    "    target = batch[1].numpy()\n",
    "    bs = tf.shape(source)[0]\n",
    "    preds = model.generate(source, start_token_idx)\n",
    "    preds = preds.numpy()\n",
    "\n",
    "    for i in range(bs):\n",
    "        target_text = \"\".join([idx_to_char[_] for _ in target[i, :]])\n",
    "        ground_truth_list.append(target_text.replace('P', ''))\n",
    "        prediction = \"\"\n",
    "        for idx in preds[i, :]:\n",
    "            prediction += idx_to_char[idx]\n",
    "            if idx == end_token_idx:\n",
    "                break\n",
    "        preds_list.append(prediction)\n",
    "\n",
    "for i in range(10):\n",
    "    print(ground_truth_list[i])\n",
    "    print(preds_list[i])\n",
    "    print('\\n~~~\\n')"
   ]
  },
  {
   "cell_type": "code",
   "execution_count": 21,
   "id": "bed4c606",
   "metadata": {
    "execution": {
     "iopub.execute_input": "2023-06-21T06:00:23.415452Z",
     "iopub.status.busy": "2023-06-21T06:00:23.415155Z",
     "iopub.status.idle": "2023-06-21T06:00:23.429189Z",
     "shell.execute_reply": "2023-06-21T06:00:23.427941Z"
    },
    "papermill": {
     "duration": 0.045771,
     "end_time": "2023-06-21T06:00:23.431253",
     "exception": false,
     "start_time": "2023-06-21T06:00:23.385482",
     "status": "completed"
    },
    "tags": []
   },
   "outputs": [
    {
     "name": "stdout",
     "output_type": "stream",
     "text": [
      "Validation score: 0.7015437392795884\n"
     ]
    }
   ],
   "source": [
    "ground_truth_processed = [ground_truth_list[i][1:-1] for i in range(len(ground_truth_list))]\n",
    "preds_list_processed = [preds_list[i][1:-1] for i in range(len(preds_list))]\n",
    "lev_dist = [lev.distance(ground_truth_processed[i], preds_list_processed[i]) \n",
    "            for i in range(len(preds_list_processed))]\n",
    "N = [len(phrase) for phrase in ground_truth_processed]\n",
    "\n",
    "print('Validation score: '+str((np.sum(N) - np.sum(lev_dist))/np.sum(N)))"
   ]
  },
  {
   "cell_type": "markdown",
   "id": "4867d276",
   "metadata": {
    "papermill": {
     "duration": 0.028638,
     "end_time": "2023-06-21T06:00:23.488723",
     "exception": false,
     "start_time": "2023-06-21T06:00:23.460085",
     "status": "completed"
    },
    "tags": []
   },
   "source": [
    "# TFLiteModel"
   ]
  },
  {
   "cell_type": "code",
   "execution_count": 22,
   "id": "72ed954f",
   "metadata": {
    "execution": {
     "iopub.execute_input": "2023-06-21T06:00:23.547219Z",
     "iopub.status.busy": "2023-06-21T06:00:23.546955Z",
     "iopub.status.idle": "2023-06-21T06:00:23.557668Z",
     "shell.execute_reply": "2023-06-21T06:00:23.556766Z"
    },
    "papermill": {
     "duration": 0.042312,
     "end_time": "2023-06-21T06:00:23.559541",
     "exception": false,
     "start_time": "2023-06-21T06:00:23.517229",
     "status": "completed"
    },
    "tags": []
   },
   "outputs": [],
   "source": [
    " class TFLiteModel(tf.Module):\n",
    "    def __init__(self, model):\n",
    "        super(TFLiteModel, self).__init__()\n",
    "        self.target_start_token_idx = start_token_idx\n",
    "        self.target_end_token_idx = end_token_idx\n",
    "        # Load the feature generation and main models\n",
    "        self.model = model\n",
    "    \n",
    "    @tf.function(input_signature=[tf.TensorSpec(shape=[None, len(SEL_COLS)], dtype=tf.float32, name='inputs')])\n",
    "    def __call__(self, inputs, training=False):\n",
    "        # Preprocess Data\n",
    "        x = tf.cast(inputs, tf.float32)\n",
    "        x = x[None]\n",
    "        x = tf.cond(tf.shape(x)[1] == 0, lambda: tf.zeros((1, 1, len(SEL_COLS))), lambda: tf.identity(x))\n",
    "        x = x[0]\n",
    "        x = pre_process(x)\n",
    "        x = x[None]\n",
    "        x = self.model.generate(x, self.target_start_token_idx)\n",
    "        x = x[0]\n",
    "        idx = tf.argmax(tf.cast(tf.equal(x, self.target_end_token_idx), tf.int32))\n",
    "        idx = tf.where(tf.math.less(idx, 1), tf.constant(2, dtype=tf.int64), idx)\n",
    "        x = x[1:idx]\n",
    "        x = tf.one_hot(x, 59)\n",
    "        return {'outputs': x}\n",
    "    \n",
    "tflitemodel_base = TFLiteModel(model)"
   ]
  },
  {
   "cell_type": "code",
   "execution_count": 23,
   "id": "f9089d9b",
   "metadata": {
    "execution": {
     "iopub.execute_input": "2023-06-21T06:00:23.617779Z",
     "iopub.status.busy": "2023-06-21T06:00:23.617513Z",
     "iopub.status.idle": "2023-06-21T06:00:23.761023Z",
     "shell.execute_reply": "2023-06-21T06:00:23.760054Z"
    },
    "papermill": {
     "duration": 0.175553,
     "end_time": "2023-06-21T06:00:23.763560",
     "exception": false,
     "start_time": "2023-06-21T06:00:23.588007",
     "status": "completed"
    },
    "tags": []
   },
   "outputs": [],
   "source": [
    "model.save_weights(\"model.h5\")"
   ]
  },
  {
   "cell_type": "code",
   "execution_count": 24,
   "id": "d7b7ab3f",
   "metadata": {
    "execution": {
     "iopub.execute_input": "2023-06-21T06:00:23.823142Z",
     "iopub.status.busy": "2023-06-21T06:00:23.822848Z",
     "iopub.status.idle": "2023-06-21T06:01:19.574989Z",
     "shell.execute_reply": "2023-06-21T06:01:19.573943Z"
    },
    "papermill": {
     "duration": 55.784496,
     "end_time": "2023-06-21T06:01:19.577447",
     "exception": false,
     "start_time": "2023-06-21T06:00:23.792951",
     "status": "completed"
    },
    "tags": []
   },
   "outputs": [
    {
     "name": "stdout",
     "output_type": "stream",
     "text": [
      "Tensor(\"cond_2/Pad:0\", shape=(None, 26, 3), dtype=float32)\n"
     ]
    }
   ],
   "source": [
    "keras_model_converter = tf.lite.TFLiteConverter.from_keras_model(tflitemodel_base)\n",
    "keras_model_converter.target_spec.supported_ops = [tf.lite.OpsSet.TFLITE_BUILTINS]#, tf.lite.OpsSet.SELECT_TF_OPS]\n",
    "tflite_model = keras_model_converter.convert()\n",
    "with open('/kaggle/working/model.tflite', 'wb') as f:\n",
    "    f.write(tflite_model)\n",
    "    \n",
    "infargs = {\"selected_columns\" : SEL_COLS}\n",
    "\n",
    "with open('inference_args.json', \"w\") as json_file:\n",
    "    json.dump(infargs, json_file)"
   ]
  },
  {
   "cell_type": "code",
   "execution_count": 25,
   "id": "2ab734fa",
   "metadata": {
    "execution": {
     "iopub.execute_input": "2023-06-21T06:01:19.638045Z",
     "iopub.status.busy": "2023-06-21T06:01:19.637137Z",
     "iopub.status.idle": "2023-06-21T06:01:22.014341Z",
     "shell.execute_reply": "2023-06-21T06:01:22.013173Z"
    },
    "papermill": {
     "duration": 2.409473,
     "end_time": "2023-06-21T06:01:22.016846",
     "exception": false,
     "start_time": "2023-06-21T06:01:19.607373",
     "status": "completed"
    },
    "tags": []
   },
   "outputs": [
    {
     "name": "stdout",
     "output_type": "stream",
     "text": [
      "  adding: model.tflite (deflated 19%)\r\n",
      "  adding: inference_args.json (deflated 85%)\r\n"
     ]
    }
   ],
   "source": [
    "!zip submission.zip  './model.tflite' './inference_args.json'"
   ]
  },
  {
   "cell_type": "code",
   "execution_count": 26,
   "id": "2ff328cd",
   "metadata": {
    "execution": {
     "iopub.execute_input": "2023-06-21T06:01:22.077099Z",
     "iopub.status.busy": "2023-06-21T06:01:22.076777Z",
     "iopub.status.idle": "2023-06-21T06:01:22.458830Z",
     "shell.execute_reply": "2023-06-21T06:01:22.457535Z"
    },
    "papermill": {
     "duration": 0.414749,
     "end_time": "2023-06-21T06:01:22.461049",
     "exception": false,
     "start_time": "2023-06-21T06:01:22.046300",
     "status": "completed"
    },
    "tags": []
   },
   "outputs": [
    {
     "name": "stdout",
     "output_type": "stream",
     "text": [
      "8888/\n"
     ]
    }
   ],
   "source": [
    "interpreter = tf.lite.Interpreter(\"model.tflite\")\n",
    "\n",
    "REQUIRED_SIGNATURE = \"serving_default\"\n",
    "REQUIRED_OUTPUT = \"outputs\"\n",
    "\n",
    "with open (\"/kaggle/input/asl-fingerspelling/character_to_prediction_index.json\", \"r\") as f:\n",
    "    character_map = json.load(f)\n",
    "rev_character_map = {j:i for i,j in character_map.items()}\n",
    "\n",
    "found_signatures = list(interpreter.get_signature_list().keys())\n",
    "\n",
    "if REQUIRED_SIGNATURE not in found_signatures:\n",
    "    raise KernelEvalException('Required input signature not found.')\n",
    "\n",
    "prediction_fn = interpreter.get_signature_runner(\"serving_default\")\n",
    "output = prediction_fn(inputs=batch[0][0])\n",
    "prediction_str = \"\".join([rev_character_map.get(s, \"\") for s in np.argmax(output[REQUIRED_OUTPUT], axis=1)])\n",
    "print(prediction_str)"
   ]
  }
 ],
 "metadata": {
  "kernelspec": {
   "display_name": "Python 3",
   "language": "python",
   "name": "python3"
  },
  "language_info": {
   "codemirror_mode": {
    "name": "ipython",
    "version": 3
   },
   "file_extension": ".py",
   "mimetype": "text/x-python",
   "name": "python",
   "nbconvert_exporter": "python",
   "pygments_lexer": "ipython3",
   "version": "3.10.10"
  },
  "papermill": {
   "default_parameters": {},
   "duration": 4092.786071,
   "end_time": "2023-06-21T06:01:26.230741",
   "environment_variables": {},
   "exception": null,
   "input_path": "__notebook__.ipynb",
   "output_path": "__notebook__.ipynb",
   "parameters": {},
   "start_time": "2023-06-21T04:53:13.444670",
   "version": "2.4.0"
  }
 },
 "nbformat": 4,
 "nbformat_minor": 5
}
