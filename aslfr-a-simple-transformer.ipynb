{
 "cells": [
  {
   "cell_type": "markdown",
   "id": "e09467e8",
   "metadata": {
    "papermill": {
     "duration": 0.010292,
     "end_time": "2023-07-07T06:00:21.248138",
     "exception": false,
     "start_time": "2023-07-07T06:00:21.237846",
     "status": "completed"
    },
    "tags": []
   },
   "source": [
    "\n",
    "\n",
    "1. I used two transformer layer in the encoder instead of four.\n",
    "2. I used four attention heads instead of two.\n",
    "3. I used new tokens for SOS, EOS, and padding (very minor since Rohith used rare tokens for these purposes, but still- more 'correct').\n",
    "2. I fixed a bug (probably?) in the decoder's dropout layers, which did not have the training flag, resulting in dropout during inference. This change gave a nice bump in the score.\n",
    "3. I made the passing of the training flag explicit. I know it can be implicit since it is a kwarg, but explicit passing makes the whole thing more straightforward and maybe fix another one or two training-flag-related bugs along the way.\n",
    "4. I changed the positional encoding in the decoder from tf.keras.layers.Embedding to proper positional embeddings (i.e., the usual sines and cosines usually used for this purpose). This had a significant impact.\n",
    "5. I added positional embedding to the encoder. This, too, had a significant impact.\n"
   ]
  },
  {
   "cell_type": "code",
   "execution_count": 1,
   "id": "ed9245d4",
   "metadata": {
    "execution": {
     "iopub.execute_input": "2023-07-07T06:00:21.269928Z",
     "iopub.status.busy": "2023-07-07T06:00:21.269116Z",
     "iopub.status.idle": "2023-07-07T06:00:31.076821Z",
     "shell.execute_reply": "2023-07-07T06:00:31.075867Z"
    },
    "papermill": {
     "duration": 9.821331,
     "end_time": "2023-07-07T06:00:31.079221",
     "exception": false,
     "start_time": "2023-07-07T06:00:21.257890",
     "status": "completed"
    },
    "tags": []
   },
   "outputs": [
    {
     "name": "stderr",
     "output_type": "stream",
     "text": [
      "/opt/conda/lib/python3.10/site-packages/tensorflow_io/python/ops/__init__.py:98: UserWarning: unable to load libtensorflow_io_plugins.so: unable to open file: libtensorflow_io_plugins.so, from paths: ['/opt/conda/lib/python3.10/site-packages/tensorflow_io/python/ops/libtensorflow_io_plugins.so']\n",
      "caused by: ['/opt/conda/lib/python3.10/site-packages/tensorflow_io/python/ops/libtensorflow_io_plugins.so: undefined symbol: _ZN3tsl6StatusC1EN10tensorflow5error4CodeESt17basic_string_viewIcSt11char_traitsIcEENS_14SourceLocationE']\n",
      "  warnings.warn(f\"unable to load libtensorflow_io_plugins.so: {e}\")\n",
      "/opt/conda/lib/python3.10/site-packages/tensorflow_io/python/ops/__init__.py:104: UserWarning: file system plugins are not loaded: unable to open file: libtensorflow_io.so, from paths: ['/opt/conda/lib/python3.10/site-packages/tensorflow_io/python/ops/libtensorflow_io.so']\n",
      "caused by: ['/opt/conda/lib/python3.10/site-packages/tensorflow_io/python/ops/libtensorflow_io.so: undefined symbol: _ZTVN10tensorflow13GcsFileSystemE']\n",
      "  warnings.warn(f\"file system plugins are not loaded: {e}\")\n"
     ]
    }
   ],
   "source": [
    "import pandas as pd\n",
    "import numpy as np\n",
    "import tensorflow as tf\n",
    "from tensorflow import keras\n",
    "from tensorflow.keras import layers\n",
    "from tensorflow.keras.metrics import Accuracy\n",
    "from skimage.transform import resize\n",
    "from sklearn.model_selection import train_test_split\n",
    "import json\n",
    "from tqdm import tqdm\n",
    "import matplotlib.pyplot as plt\n",
    "import Levenshtein as lev\n",
    "import os\n",
    "import gc"
   ]
  },
  {
   "cell_type": "markdown",
   "id": "1e466783",
   "metadata": {
    "papermill": {
     "duration": 0.009833,
     "end_time": "2023-07-07T06:00:31.098443",
     "exception": false,
     "start_time": "2023-07-07T06:00:31.088610",
     "status": "completed"
    },
    "tags": []
   },
   "source": [
    "# EDA"
   ]
  },
  {
   "cell_type": "markdown",
   "id": "36af407c",
   "metadata": {
    "papermill": {
     "duration": 0.009251,
     "end_time": "2023-07-07T06:00:31.117452",
     "exception": false,
     "start_time": "2023-07-07T06:00:31.108201",
     "status": "completed"
    },
    "tags": []
   },
   "source": [
    "inpdir = \"/kaggle/input/asl-fingerspelling\"\n",
    "df = pd.read_csv(f'{inpdir}/train.csv')\n",
    "df[\"phrase_bytes\"] = df[\"phrase\"].map(lambda x: x.encode(\"utf-8\"))\n",
    "display(df.head())"
   ]
  },
  {
   "cell_type": "markdown",
   "id": "8ea4487e",
   "metadata": {
    "papermill": {
     "duration": 0.009263,
     "end_time": "2023-07-07T06:00:31.136239",
     "exception": false,
     "start_time": "2023-07-07T06:00:31.126976",
     "status": "completed"
    },
    "tags": []
   },
   "source": [
    "train_landmarks = pd.read_parquet('/kaggle/input/asl-fingerspelling/train_landmarks/1019715464.parquet')\n",
    "keys = train_landmarks.keys()[1:]\n",
    "train_landmarks.head()"
   ]
  },
  {
   "cell_type": "markdown",
   "id": "3b6e4908",
   "metadata": {
    "papermill": {
     "duration": 0.009463,
     "end_time": "2023-07-07T06:00:31.154948",
     "exception": false,
     "start_time": "2023-07-07T06:00:31.145485",
     "status": "completed"
    },
    "tags": []
   },
   "source": [
    "# TFRecord"
   ]
  },
  {
   "cell_type": "markdown",
   "id": "6abda4c5",
   "metadata": {
    "papermill": {
     "duration": 0.009348,
     "end_time": "2023-07-07T06:00:31.173988",
     "exception": false,
     "start_time": "2023-07-07T06:00:31.164640",
     "status": "completed"
    },
    "tags": []
   },
   "source": [
    "LPOSE = [13, 15, 17, 19, 21]\n",
    "RPOSE = [14, 16, 18, 20, 22]\n",
    "POSE = LPOSE + RPOSE\n",
    "\n",
    "RHAND_LBLS = [f'x_right_hand_{i}' for i in range(21)] + [f'y_right_hand_{i}' for i in range(21)] + [f'z_right_hand_{i}' for i in range(21)]\n",
    "LHAND_LBLS = [ f'x_left_hand_{i}' for i in range(21)] + [ f'y_left_hand_{i}' for i in range(21)] + [ f'z_left_hand_{i}' for i in range(21)]\n",
    "POSE_LBLS = [f'x_pose_{i}' for i in POSE] + [f'y_pose_{i}' for i in POSE] + [f'z_pose_{i}' for i in POSE]\n",
    "\n",
    "X = [f'x_right_hand_{i}' for i in range(21)] + [f'x_left_hand_{i}' for i in range(21)] + [f'x_pose_{i}' for i in POSE]\n",
    "Y = [f'y_right_hand_{i}' for i in range(21)] + [f'y_left_hand_{i}' for i in range(21)] + [f'y_pose_{i}' for i in POSE]\n",
    "Z = [f'z_right_hand_{i}' for i in range(21)] + [f'z_left_hand_{i}' for i in range(21)] + [f'z_pose_{i}' for i in POSE]\n",
    "\n",
    "SEL_COLS = X + Y + Z\n",
    "FRAME_LEN = 128\n",
    "\n",
    "X_IDX = [i for i, col in enumerate(SEL_COLS)  if \"x_\" in col]\n",
    "Y_IDX = [i for i, col in enumerate(SEL_COLS)  if \"y_\" in col]\n",
    "Z_IDX = [i for i, col in enumerate(SEL_COLS)  if \"z_\" in col]\n",
    "\n",
    "RHAND_IDX = [i for i, col in enumerate(SEL_COLS)  if \"right\" in col]\n",
    "LHAND_IDX = [i for i, col in enumerate(SEL_COLS)  if  \"left\" in col]\n",
    "RPOSE_IDX = [i for i, col in enumerate(SEL_COLS)  if  \"pose\" in col and int(col[-2:]) in RPOSE]\n",
    "LPOSE_IDX = [i for i, col in enumerate(SEL_COLS)  if  \"pose\" in col and int(col[-2:]) in LPOSE]\n",
    "\n",
    "print('SEL_COLS size:' + str(len(SEL_COLS)))"
   ]
  },
  {
   "cell_type": "markdown",
   "id": "33ef5b08",
   "metadata": {
    "papermill": {
     "duration": 0.009186,
     "end_time": "2023-07-07T06:00:31.192485",
     "exception": false,
     "start_time": "2023-07-07T06:00:31.183299",
     "status": "completed"
    },
    "tags": []
   },
   "source": [
    "def load_relevant_data_subset(pq_path):\n",
    "    return pd.read_parquet(pq_path, columns=SEL_COLS)\n",
    "\n",
    "counter = 0\n",
    "for file_id in tqdm(df.file_id.unique()):\n",
    "    \n",
    "    print(counter)\n",
    "    counter+=1\n",
    "    \n",
    "    pqfile = f\"{inpdir}/train_landmarks/{file_id}.parquet\"\n",
    "    if not os.path.isdir(\"tfds\"): os.mkdir(\"tfds\")\n",
    "    tffile = f\"tfds/{file_id}.tfrecord\"\n",
    "    seq_refs = df.loc[df.file_id == file_id]\n",
    "    seqs = load_relevant_data_subset(pqfile)\n",
    "    seqs_numpy = seqs.to_numpy()\n",
    "    with tf.io.TFRecordWriter(tffile) as file_writer:\n",
    "        for seq_id, phrase in zip(seq_refs.sequence_id, seq_refs.phrase_bytes):\n",
    "            frames = seqs_numpy[seqs.index == seq_id]\n",
    "            \n",
    "            r_nonan = np.sum(np.sum(np.isnan(frames[:, RHAND_IDX]), axis = 1) == 0)\n",
    "            l_nonan = np.sum(np.sum(np.isnan(frames[:, LHAND_IDX]), axis = 1) == 0)\n",
    "            no_nan = max(r_nonan, l_nonan)\n",
    "            \n",
    "            if 2*len(phrase)<no_nan:\n",
    "                features = {SEL_COLS[i]: tf.train.Feature(\n",
    "                    float_list=tf.train.FloatList(value=frames[:, i])) for i in range(len(SEL_COLS))}\n",
    "                features[\"phrase\"] = tf.train.Feature(bytes_list=tf.train.BytesList(value=[phrase]))\n",
    "                record_bytes = tf.train.Example(features=tf.train.Features(feature=features)).SerializeToString()\n",
    "                file_writer.write(record_bytes)"
   ]
  },
  {
   "cell_type": "markdown",
   "id": "25ef3a7a",
   "metadata": {
    "papermill": {
     "duration": 0.009225,
     "end_time": "2023-07-07T06:00:31.211432",
     "exception": false,
     "start_time": "2023-07-07T06:00:31.202207",
     "status": "completed"
    },
    "tags": []
   },
   "source": [
    "# Data loading"
   ]
  },
  {
   "cell_type": "markdown",
   "id": "b07e17a2",
   "metadata": {
    "papermill": {
     "duration": 0.009629,
     "end_time": "2023-07-07T06:00:31.230507",
     "exception": false,
     "start_time": "2023-07-07T06:00:31.220878",
     "status": "completed"
    },
    "tags": []
   },
   "source": [
    "#### Here I use new tokens for padding, start and end of sentences. (Capitals are good since the original phrases have only lower case letters, besides numbers and various signs)."
   ]
  },
  {
   "cell_type": "code",
   "execution_count": 2,
   "id": "7097dbb7",
   "metadata": {
    "execution": {
     "iopub.execute_input": "2023-07-07T06:00:31.250558Z",
     "iopub.status.busy": "2023-07-07T06:00:31.249888Z",
     "iopub.status.idle": "2023-07-07T06:00:31.255283Z",
     "shell.execute_reply": "2023-07-07T06:00:31.254305Z"
    },
    "papermill": {
     "duration": 0.017474,
     "end_time": "2023-07-07T06:00:31.257226",
     "exception": false,
     "start_time": "2023-07-07T06:00:31.239752",
     "status": "completed"
    },
    "tags": []
   },
   "outputs": [],
   "source": [
    "pad_token = 'P'\n",
    "start_token = 'S'\n",
    "end_token = 'E'\n",
    "pad_token_idx = 59\n",
    "start_token_idx = 60\n",
    "end_token_idx = 61"
   ]
  },
  {
   "cell_type": "code",
   "execution_count": 3,
   "id": "10e05294",
   "metadata": {
    "execution": {
     "iopub.execute_input": "2023-07-07T06:00:31.277230Z",
     "iopub.status.busy": "2023-07-07T06:00:31.276731Z",
     "iopub.status.idle": "2023-07-07T06:00:31.433060Z",
     "shell.execute_reply": "2023-07-07T06:00:31.432044Z"
    },
    "papermill": {
     "duration": 0.168492,
     "end_time": "2023-07-07T06:00:31.435269",
     "exception": false,
     "start_time": "2023-07-07T06:00:31.266777",
     "status": "completed"
    },
    "tags": []
   },
   "outputs": [
    {
     "name": "stdout",
     "output_type": "stream",
     "text": [
      "[47, 48, 49, 50, 51, 99, 100, 101, 102, 103, 151, 152, 153, 154, 155]\n"
     ]
    }
   ],
   "source": [
    "with open (\"/kaggle/input/asl-fingerspelling/character_to_prediction_index.json\", \"r\") as f:\n",
    "    char_to_num = json.load(f)\n",
    "\n",
    "\n",
    "char_to_num[pad_token] = pad_token_idx\n",
    "char_to_num[start_token] = start_token_idx\n",
    "char_to_num[end_token] = end_token_idx\n",
    "\n",
    "num_to_char = {j:i for i,j in char_to_num.items()}\n",
    "\n",
    "\n",
    "inpdir = \"/kaggle/input/asl-fingerspelling\"\n",
    "df = pd.read_csv(f'{inpdir}/train.csv')\n",
    "\n",
    "LPOSE = [13, 15, 17, 19, 21]\n",
    "RPOSE = [14, 16, 18, 20, 22]\n",
    "POSE = LPOSE + RPOSE\n",
    "\n",
    "RHAND_LBLS = [f'x_right_hand_{i}' for i in range(21)] + [f'y_right_hand_{i}' for i in range(21)] + [f'z_right_hand_{i}' for i in range(21)]\n",
    "LHAND_LBLS = [ f'x_left_hand_{i}' for i in range(21)] + [ f'y_left_hand_{i}' for i in range(21)] + [ f'z_left_hand_{i}' for i in range(21)]\n",
    "POSE_LBLS = [f'x_pose_{i}' for i in POSE] + [f'y_pose_{i}' for i in POSE] + [f'z_pose_{i}' for i in POSE]\n",
    "\n",
    "X = [f'x_right_hand_{i}' for i in range(21)] + [f'x_left_hand_{i}' for i in range(21)] + [f'x_pose_{i}' for i in POSE]\n",
    "Y = [f'y_right_hand_{i}' for i in range(21)] + [f'y_left_hand_{i}' for i in range(21)] + [f'y_pose_{i}' for i in POSE]\n",
    "Z = [f'z_right_hand_{i}' for i in range(21)] + [f'z_left_hand_{i}' for i in range(21)] + [f'z_pose_{i}' for i in POSE]\n",
    "\n",
    "SEL_COLS = X + Y + Z\n",
    "FRAME_LEN = 128\n",
    "\n",
    "X_IDX = [i for i, col in enumerate(SEL_COLS)  if \"x_\" in col]\n",
    "Y_IDX = [i for i, col in enumerate(SEL_COLS)  if \"y_\" in col]\n",
    "Z_IDX = [i for i, col in enumerate(SEL_COLS)  if \"z_\" in col]\n",
    "\n",
    "RHAND_IDX = [i for i, col in enumerate(SEL_COLS)  if \"right\" in col]\n",
    "LHAND_IDX = [i for i, col in enumerate(SEL_COLS)  if  \"left\" in col]\n",
    "RPOSE_IDX = [i for i, col in enumerate(SEL_COLS)  if  \"pose\" in col and int(col[-2:]) in RPOSE]\n",
    "LPOSE_IDX = [i for i, col in enumerate(SEL_COLS)  if  \"pose\" in col and int(col[-2:]) in LPOSE]\n",
    "\n",
    "print(RPOSE_IDX)"
   ]
  },
  {
   "cell_type": "code",
   "execution_count": 4,
   "id": "3ab1272c",
   "metadata": {
    "execution": {
     "iopub.execute_input": "2023-07-07T06:00:31.457436Z",
     "iopub.status.busy": "2023-07-07T06:00:31.457118Z",
     "iopub.status.idle": "2023-07-07T06:00:31.478476Z",
     "shell.execute_reply": "2023-07-07T06:00:31.477467Z"
    },
    "papermill": {
     "duration": 0.034959,
     "end_time": "2023-07-07T06:00:31.480605",
     "exception": false,
     "start_time": "2023-07-07T06:00:31.445646",
     "status": "completed"
    },
    "tags": []
   },
   "outputs": [],
   "source": [
    "def resize_pad(x):\n",
    "    if tf.shape(x)[0] < FRAME_LEN:\n",
    "        x = tf.pad(x, ([[0, FRAME_LEN-tf.shape(x)[0]], [0, 0], [0, 0]]))\n",
    "        print(x)\n",
    "    else:\n",
    "        x = tf.image.resize(x, (FRAME_LEN, tf.shape(x)[1]))\n",
    "    return x\n",
    "\n",
    "def translate_landmarks(landmarks, max_translation):\n",
    "    translation = tf.random.uniform(shape=tf.shape(landmarks), minval=-max_translation, maxval=max_translation)\n",
    "    translated_landmarks = landmarks + translation\n",
    "    return translated_landmarks\n",
    "\n",
    "# def scale_landmarks(landmarks, min_scale, max_scale):\n",
    "#     scale_factor = tf.random.uniform(shape=tf.shape(landmarks), minval=min_scale, maxval=max_scale)\n",
    "#     scaled_landmarks = landmarks * scale_factor\n",
    "#     return scaled_landmarks\n",
    "\n",
    "def pre_process(x):\n",
    "\n",
    "    rhand = tf.gather(x, RHAND_IDX, axis=1)\n",
    "    lhand = tf.gather(x, LHAND_IDX, axis=1)\n",
    "    rpose = tf.gather(x, RPOSE_IDX, axis=1)\n",
    "    lpose = tf.gather(x, LPOSE_IDX, axis=1)\n",
    "\n",
    "    rnan_idx = tf.reduce_any(tf.math.is_nan(rhand), axis=1)\n",
    "    lnan_idx = tf.reduce_any(tf.math.is_nan(lhand), axis=1)\n",
    "\n",
    "    rnans = tf.math.count_nonzero(rnan_idx)\n",
    "    lnans = tf.math.count_nonzero(lnan_idx)\n",
    "\n",
    "    # For dominant hand\n",
    "    if rnans > lnans:\n",
    "        hand = lhand\n",
    "        pose = lpose\n",
    "\n",
    "        hand_x = hand[:, 0*(len(LHAND_IDX)//3) : 1*(len(LHAND_IDX)//3)]\n",
    "        hand_y = hand[:, 1*(len(LHAND_IDX)//3) : 2*(len(LHAND_IDX)//3)]\n",
    "        hand_z = hand[:, 2*(len(LHAND_IDX)//3) : 3*(len(LHAND_IDX)//3)]\n",
    "        hand = tf.concat([1-hand_x, hand_y, hand_z], axis=1)\n",
    "\n",
    "        pose_x = pose[:, 0*(len(LPOSE_IDX)//3) : 1*(len(LPOSE_IDX)//3)]\n",
    "        pose_y = pose[:, 1*(len(LPOSE_IDX)//3) : 2*(len(LPOSE_IDX)//3)]\n",
    "        pose_z = pose[:, 2*(len(LPOSE_IDX)//3) : 3*(len(LPOSE_IDX)//3)]\n",
    "        pose = tf.concat([1-pose_x, pose_y, pose_z], axis=1)\n",
    "    else:\n",
    "        hand = rhand\n",
    "        pose = rpose\n",
    "\n",
    "    hand_x = hand[:, 0*(len(LHAND_IDX)//3) : 1*(len(LHAND_IDX)//3)]\n",
    "    hand_y = hand[:, 1*(len(LHAND_IDX)//3) : 2*(len(LHAND_IDX)//3)]\n",
    "    hand_z = hand[:, 2*(len(LHAND_IDX)//3) : 3*(len(LHAND_IDX)//3)]\n",
    "    hand = tf.concat([hand_x[..., tf.newaxis], hand_y[..., tf.newaxis], hand_z[..., tf.newaxis]], axis=-1)\n",
    "\n",
    "    mean = tf.math.reduce_mean(hand, axis=1)[:, tf.newaxis, :]\n",
    "    std = tf.math.reduce_std(hand, axis=1)[:, tf.newaxis, :]\n",
    "    hand = (hand - mean) / std\n",
    "\n",
    "    pose_x = pose[:, 0*(len(LPOSE_IDX)//3) : 1*(len(LPOSE_IDX)//3)]\n",
    "    pose_y = pose[:, 1*(len(LPOSE_IDX)//3) : 2*(len(LPOSE_IDX)//3)]\n",
    "    pose_z = pose[:, 2*(len(LPOSE_IDX)//3) : 3*(len(LPOSE_IDX)//3)]\n",
    "    pose = tf.concat([pose_x[..., tf.newaxis], pose_y[..., tf.newaxis], pose_z[..., tf.newaxis]], axis=-1)\n",
    "\n",
    "    x = tf.concat([hand, pose], axis=1)\n",
    "    x = resize_pad(x)\n",
    "\n",
    "    x = tf.where(tf.math.is_nan(x), tf.zeros_like(x), x)\n",
    "    x = tf.reshape(x, (FRAME_LEN, len(LHAND_IDX) + len(LPOSE_IDX)))\n",
    "    return x"
   ]
  },
  {
   "cell_type": "code",
   "execution_count": 5,
   "id": "7da9998d",
   "metadata": {
    "execution": {
     "iopub.execute_input": "2023-07-07T06:00:31.501817Z",
     "iopub.status.busy": "2023-07-07T06:00:31.500393Z",
     "iopub.status.idle": "2023-07-07T06:00:36.353430Z",
     "shell.execute_reply": "2023-07-07T06:00:36.351090Z"
    },
    "papermill": {
     "duration": 4.865726,
     "end_time": "2023-07-07T06:00:36.355703",
     "exception": false,
     "start_time": "2023-07-07T06:00:31.489977",
     "status": "completed"
    },
    "tags": []
   },
   "outputs": [
    {
     "name": "stdout",
     "output_type": "stream",
     "text": [
      "Tensor(\"cond_1/Pad:0\", shape=(None, 26, 3), dtype=float32)\n",
      "Tensor(\"cond_1/Pad:0\", shape=(None, 26, 3), dtype=float32)\n"
     ]
    }
   ],
   "source": [
    "table = tf.lookup.StaticHashTable(\n",
    "    initializer=tf.lookup.KeyValueTensorInitializer(\n",
    "        keys=list(char_to_num.keys()),\n",
    "        values=list(char_to_num.values()),\n",
    "    ),\n",
    "    default_value=tf.constant(-1),\n",
    "    name=\"class_weight\"\n",
    ")\n",
    "\n",
    "def preprocess_fn(landmarks, phrase):\n",
    "    phrase = start_token + phrase + end_token\n",
    "    phrase = tf.strings.bytes_split(phrase)\n",
    "    phrase = table.lookup(phrase)\n",
    "    phrase = tf.pad(phrase, paddings=[[0, 64 - tf.shape(phrase)[0]]], mode = 'CONSTANT',\n",
    "                    constant_values = pad_token_idx)\n",
    "\n",
    "    # landmarksを前処理する\n",
    "    translated_landmarks = translate_landmarks(landmarks, max_translation=10)\n",
    "    #scaled_landmarks = scale_landmarks(landmarks, min_scale=0.8, max_scale=1.2)\n",
    "\n",
    "    # 前処理済みのlandmarksを結合する\n",
    "    #combined_landmarks = tf.concat([landmarks, translated_landmarks, scaled_landmarks], axis=1)\n",
    "    combined_landmarks = tf.concat([landmarks, translated_landmarks], axis=1)\n",
    "    return pre_process(combined_landmarks), phrase\n",
    "\n",
    "def decode_fn(record_bytes):\n",
    "    schema = {COL: tf.io.VarLenFeature(dtype=tf.float32) for COL in SEL_COLS}\n",
    "    schema[\"phrase\"] = tf.io.FixedLenFeature([], dtype=tf.string)\n",
    "    features = tf.io.parse_single_example(record_bytes, schema)\n",
    "    phrase = features[\"phrase\"]\n",
    "    landmarks = ([tf.sparse.to_dense(features[COL]) for COL in SEL_COLS])\n",
    "    landmarks = tf.transpose(landmarks)\n",
    "\n",
    "    return landmarks, phrase\n",
    "\n",
    "inpdir = \"/kaggle/input/aslfr-parquets-to-tfrecords-cleaned\"\n",
    "tffiles = df.file_id.map(lambda x: f'{inpdir}/tfds/{x}.tfrecord').unique()\n",
    "\n",
    "batch_size = 32\n",
    "val_len = int(0.05 * len(tffiles))\n",
    "\n",
    "train_dataset = tf.data.TFRecordDataset(tffiles[val_len:]).map(decode_fn).map(preprocess_fn).shuffle(30000, reshuffle_each_iteration=True).batch(batch_size).prefetch(buffer_size=tf.data.AUTOTUNE)\n",
    "val_dataset = tf.data.TFRecordDataset(tffiles[:val_len]).map(decode_fn).map(preprocess_fn).batch(batch_size).prefetch(buffer_size=tf.data.AUTOTUNE)\n"
   ]
  },
  {
   "cell_type": "markdown",
   "id": "d7c96551",
   "metadata": {
    "papermill": {
     "duration": 0.009974,
     "end_time": "2023-07-07T06:00:36.375654",
     "exception": false,
     "start_time": "2023-07-07T06:00:36.365680",
     "status": "completed"
    },
    "tags": []
   },
   "source": [
    "# The model"
   ]
  },
  {
   "cell_type": "code",
   "execution_count": 6,
   "id": "d9024b5a",
   "metadata": {
    "execution": {
     "iopub.execute_input": "2023-07-07T06:00:36.396398Z",
     "iopub.status.busy": "2023-07-07T06:00:36.396054Z",
     "iopub.status.idle": "2023-07-07T06:00:36.410612Z",
     "shell.execute_reply": "2023-07-07T06:00:36.409424Z"
    },
    "papermill": {
     "duration": 0.027608,
     "end_time": "2023-07-07T06:00:36.412757",
     "exception": false,
     "start_time": "2023-07-07T06:00:36.385149",
     "status": "completed"
    },
    "tags": []
   },
   "outputs": [
    {
     "name": "stdout",
     "output_type": "stream",
     "text": [
      "SEL_COLS size:156\n"
     ]
    }
   ],
   "source": [
    "LPOSE = [13, 15, 17, 19, 21]\n",
    "RPOSE = [14, 16, 18, 20, 22]\n",
    "\n",
    "POSE = LPOSE + RPOSE\n",
    "\n",
    "RHAND_LBLS = [f'x_right_hand_{i}' for i in range(21)] + [f'y_right_hand_{i}' for i in range(21)] + [f'z_right_hand_{i}' for i in range(21)]\n",
    "LHAND_LBLS = [ f'x_left_hand_{i}' for i in range(21)] + [ f'y_left_hand_{i}' for i in range(21)] + [ f'z_left_hand_{i}' for i in range(21)]\n",
    "POSE_LBLS = [f'x_pose_{i}' for i in POSE] + [f'y_pose_{i}' for i in POSE] + [f'z_pose_{i}' for i in POSE]\n",
    "\n",
    "X = [f'x_right_hand_{i}' for i in range(21)] + [f'x_left_hand_{i}' for i in range(21)] + [f'x_pose_{i}' for i in POSE]\n",
    "Y = [f'y_right_hand_{i}' for i in range(21)] + [f'y_left_hand_{i}' for i in range(21)] + [f'y_pose_{i}' for i in POSE]\n",
    "Z = [f'z_right_hand_{i}' for i in range(21)] + [f'z_left_hand_{i}' for i in range(21)] + [f'z_pose_{i}' for i in POSE]\n",
    "\n",
    "SEL_COLS = X + Y + Z\n",
    "FRAME_LEN = 128\n",
    "\n",
    "X_IDX = [i for i, col in enumerate(SEL_COLS)  if \"x_\" in col]\n",
    "Y_IDX = [i for i, col in enumerate(SEL_COLS)  if \"y_\" in col]\n",
    "Z_IDX = [i for i, col in enumerate(SEL_COLS)  if \"z_\" in col]\n",
    "\n",
    "RHAND_IDX = [i for i, col in enumerate(SEL_COLS)  if \"right\" in col]\n",
    "LHAND_IDX = [i for i, col in enumerate(SEL_COLS)  if  \"left\" in col]\n",
    "RPOSE_IDX = [i for i, col in enumerate(SEL_COLS)  if  \"pose\" in col and int(col[-2:]) in RPOSE]\n",
    "LPOSE_IDX = [i for i, col in enumerate(SEL_COLS)  if  \"pose\" in col and int(col[-2:]) in LPOSE]\n",
    "\n",
    "print('SEL_COLS size:' + str(len(SEL_COLS)))"
   ]
  },
  {
   "cell_type": "markdown",
   "id": "efaf7d7e",
   "metadata": {
    "papermill": {
     "duration": 0.009623,
     "end_time": "2023-07-07T06:00:36.431891",
     "exception": false,
     "start_time": "2023-07-07T06:00:36.422268",
     "status": "completed"
    },
    "tags": []
   },
   "source": [
    "#### Here I implemented proper positional embeddings for both the encoder and the decoder."
   ]
  },
  {
   "cell_type": "code",
   "execution_count": 7,
   "id": "afec7d8d",
   "metadata": {
    "execution": {
     "iopub.execute_input": "2023-07-07T06:00:36.452628Z",
     "iopub.status.busy": "2023-07-07T06:00:36.451966Z",
     "iopub.status.idle": "2023-07-07T06:00:36.463664Z",
     "shell.execute_reply": "2023-07-07T06:00:36.462699Z"
    },
    "papermill": {
     "duration": 0.024198,
     "end_time": "2023-07-07T06:00:36.465675",
     "exception": false,
     "start_time": "2023-07-07T06:00:36.441477",
     "status": "completed"
    },
    "tags": []
   },
   "outputs": [],
   "source": [
    "class MLPBlock(layers.Layer):\n",
    "    def __init__(self, num_hid=256, num_layers=5):\n",
    "        super().__init__()\n",
    "        self.mlp = tf.keras.Sequential()\n",
    "        for _ in range(num_layers):\n",
    "            self.mlp.add(tf.keras.layers.Dense(num_hid, activation=tf.nn.gelu))\n",
    "        self.mlp.add(tf.keras.layers.Dense(num_hid))\n",
    "\n",
    "    def call(self, inputs):\n",
    "        return self.mlp(inputs)\n",
    "\n",
    "\n",
    "class TokenEmbedding(layers.Layer):\n",
    "    def __init__(self, num_vocab=61, maxlen=50, num_hid=256, mlp_num_layers=5):\n",
    "        super().__init__()\n",
    "        self.num_hid = num_hid\n",
    "        self.emb = tf.keras.layers.Embedding(num_vocab, num_hid)\n",
    "        self.pos_emb = self.positional_encoding(maxlen - 1, num_hid)\n",
    "        self.mlp_block = MLPBlock(num_hid, num_layers=mlp_num_layers)\n",
    "\n",
    "    def call(self, x):\n",
    "        maxlen = tf.shape(x)[-1]\n",
    "        x = self.emb(x) * tf.math.sqrt(tf.cast(self.num_hid, tf.float32))\n",
    "        x = x + self.pos_emb[:maxlen, :]\n",
    "        x = self.mlp_block(x)\n",
    "        return x\n",
    "\n",
    "    def positional_encoding(self, maxlen, num_hid):\n",
    "        positions = tf.range(maxlen, dtype=tf.float32)[..., tf.newaxis]\n",
    "        depth = num_hid // 2\n",
    "        angles = positions / tf.pow(10000, tf.range(0, depth, 1, dtype=tf.float32) / num_hid)  # depthのインクリメントを修正\n",
    "        pos_encoding = tf.concat([tf.sin(angles), tf.cos(angles)], axis=-1)\n",
    "        return pos_encoding\n",
    "\n"
   ]
  },
  {
   "cell_type": "markdown",
   "id": "5356c544",
   "metadata": {
    "papermill": {
     "duration": 0.009591,
     "end_time": "2023-07-07T06:00:36.484812",
     "exception": false,
     "start_time": "2023-07-07T06:00:36.475221",
     "status": "completed"
    },
    "tags": []
   },
   "source": [
    "class TokenEmbedding(layers.Layer):\n",
    "    def __init__(self, num_vocab=1000, maxlen=100, num_hid=64):\n",
    "        super().__init__()\n",
    "        self.num_hid = num_hid\n",
    "        self.emb = tf.keras.layers.Embedding(num_vocab, num_hid)\n",
    "        #self.pos_emb = layers.Embedding(input_dim=maxlen, output_dim=num_hid)\n",
    "        '''\n",
    "        self.pos_emb = tf.math.divide(\n",
    "            self.positional_encoding(maxlen-1, num_hid),\n",
    "            tf.math.sqrt(tf.cast(num_hid, tf.float32)))\n",
    "        '''\n",
    "        self.pos_emb = self.positional_encoding(maxlen-1, num_hid)\n",
    "\n",
    "    def call(self, x):\n",
    "        maxlen = tf.shape(x)[-1]\n",
    "        x = self.emb(x)\n",
    "        x = tf.math.multiply(x, tf.math.sqrt(tf.cast(self.num_hid, tf.float32)))\n",
    "        '''\n",
    "        positions = tf.range(start=0, limit=maxlen, delta=1)\n",
    "        positions = self.pos_emb(positions)\n",
    "        return x + positions\n",
    "        '''\n",
    "        return x + self.pos_emb[:maxlen, :]\n",
    "    \n",
    "    def positional_encoding(self, maxlen, num_hid):\n",
    "        depth = num_hid/2\n",
    "        positions = tf.range(maxlen, dtype = tf.float32)[..., tf.newaxis]\n",
    "        depths = tf.range(depth, dtype = tf.float32)[np.newaxis, :]/depth\n",
    "        angle_rates = tf.math.divide(1, tf.math.pow(tf.cast(10000, tf.float32), depths))\n",
    "        angle_rads = tf.linalg.matmul(positions, angle_rates)\n",
    "        pos_encoding = tf.concat(\n",
    "          [tf.math.sin(angle_rads), tf.math.cos(angle_rads)],\n",
    "          axis=-1)\n",
    "        return pos_encoding\n",
    "\n",
    "\n"
   ]
  },
  {
   "cell_type": "code",
   "execution_count": 8,
   "id": "48acf6af",
   "metadata": {
    "execution": {
     "iopub.execute_input": "2023-07-07T06:00:36.514439Z",
     "iopub.status.busy": "2023-07-07T06:00:36.514127Z",
     "iopub.status.idle": "2023-07-07T06:00:36.532805Z",
     "shell.execute_reply": "2023-07-07T06:00:36.531795Z"
    },
    "papermill": {
     "duration": 0.036615,
     "end_time": "2023-07-07T06:00:36.535172",
     "exception": false,
     "start_time": "2023-07-07T06:00:36.498557",
     "status": "completed"
    },
    "tags": []
   },
   "outputs": [],
   "source": [
    "class LandmarkEmbedding(tf.keras.Model):\n",
    "    def __init__(self, num_hid=256, maxlen=100):\n",
    "        super(LandmarkEmbedding, self).__init__()\n",
    "        self.conv1 = tf.keras.layers.Conv1D(num_hid, 11, padding=\"same\", kernel_regularizer=tf.keras.regularizers.l2(0.01))\n",
    "        self.bn1 = tf.keras.layers.BatchNormalization()\n",
    "        self.leaky_relu1 = tf.keras.layers.LeakyReLU()\n",
    "\n",
    "        self.conv2 = tf.keras.layers.Conv1D(num_hid, 11, padding=\"same\", kernel_regularizer=tf.keras.regularizers.l2(0.01))\n",
    "        self.bn2 = tf.keras.layers.BatchNormalization()\n",
    "        self.leaky_relu2 = tf.keras.layers.LeakyReLU()\n",
    "        self.dropout2 = tf.keras.layers.Dropout(0.2)\n",
    "\n",
    "        self.conv3 = tf.keras.layers.Conv1D(num_hid, 11, padding=\"same\", kernel_regularizer=tf.keras.regularizers.l2(0.01))\n",
    "        self.bn3 = tf.keras.layers.BatchNormalization()\n",
    "        self.leaky_relu3 = tf.keras.layers.LeakyReLU()\n",
    "        self.dropout3 = tf.keras.layers.Dropout(0.2)\n",
    "\n",
    "        self.conv4 = tf.keras.layers.Conv1D(num_hid, 11, padding=\"same\", kernel_regularizer=tf.keras.regularizers.l2(0.01))\n",
    "        self.bn4 = tf.keras.layers.BatchNormalization()\n",
    "        self.leaky_relu4 = tf.keras.layers.LeakyReLU()\n",
    "        self.dropout4 = tf.keras.layers.Dropout(0.2)\n",
    "\n",
    "        self.sigmoid = tf.keras.layers.Activation('sigmoid')\n",
    "        self.pos_emb = self.positional_encoding(maxlen, num_hid)\n",
    "        self.maxlen = maxlen\n",
    "        self.num_hid = num_hid\n",
    "\n",
    "    def call(self, x):\n",
    "        x = self.conv1(x)\n",
    "        x = self.bn1(x)\n",
    "        x = self.leaky_relu1(x)\n",
    "        x = self.conv2(x)\n",
    "        x = self.bn2(x)\n",
    "        x = self.leaky_relu2(x)\n",
    "        x = self.dropout2(x)\n",
    "        x = self.conv3(x)\n",
    "        x = self.bn3(x)\n",
    "        x = self.leaky_relu3(x)\n",
    "        x = self.dropout3(x)\n",
    "        x = self.conv4(x)\n",
    "        x = self.bn4(x)\n",
    "        x = self.leaky_relu4(x)\n",
    "        x = self.dropout4(x)\n",
    "        x = tf.math.multiply(x, tf.math.sqrt(tf.cast(self.num_hid, tf.float32)))\n",
    "        x = x + self.pos_emb\n",
    "\n",
    "        return self.sigmoid(x)\n",
    "\n",
    "    def positional_encoding(self, maxlen, num_hid):\n",
    "        depth = num_hid/2\n",
    "        positions = tf.range(maxlen, dtype=tf.float32)[..., tf.newaxis]\n",
    "        depths = tf.range(depth, dtype=tf.float32)[tf.newaxis, :] / depth\n",
    "        angle_rates = tf.math.divide(1, tf.math.pow(tf.cast(10000, tf.float32), depths))\n",
    "        angle_rads = tf.linalg.matmul(positions, angle_rates)\n",
    "        pos_encoding = tf.concat([tf.math.sin(angle_rads), tf.math.cos(angle_rads)], axis=-1)\n",
    "        return pos_encoding\n"
   ]
  },
  {
   "cell_type": "code",
   "execution_count": 9,
   "id": "36890302",
   "metadata": {
    "execution": {
     "iopub.execute_input": "2023-07-07T06:00:36.557033Z",
     "iopub.status.busy": "2023-07-07T06:00:36.556720Z",
     "iopub.status.idle": "2023-07-07T06:00:36.567836Z",
     "shell.execute_reply": "2023-07-07T06:00:36.566776Z"
    },
    "papermill": {
     "duration": 0.024453,
     "end_time": "2023-07-07T06:00:36.569992",
     "exception": false,
     "start_time": "2023-07-07T06:00:36.545539",
     "status": "completed"
    },
    "tags": []
   },
   "outputs": [],
   "source": [
    "class TransformerEncoder(layers.Layer):\n",
    "    def __init__(self, embed_dim, num_heads, feed_forward_dim, rate=0.1):\n",
    "        super().__init__()\n",
    "        self.att = layers.MultiHeadAttention(num_heads=num_heads, key_dim=embed_dim)\n",
    "        self.ffn = keras.Sequential(\n",
    "            [\n",
    "                layers.Dense(feed_forward_dim, activation=\"relu\"),\n",
    "                layers.Dense(embed_dim),\n",
    "            ]\n",
    "        )\n",
    "        self.layernorm1 = layers.LayerNormalization(epsilon=1e-6)\n",
    "        self.layernorm2 = layers.LayerNormalization(epsilon=1e-6)\n",
    "        self.dropout1 = layers.Dropout(rate)\n",
    "        self.dropout2 = layers.Dropout(rate)\n",
    "\n",
    "        # 追加した処理\n",
    "        self.dense1 = layers.Dense(embed_dim)\n",
    "        self.layernorm3 = layers.LayerNormalization(epsilon=1e-6)\n",
    "        self.dropout3 = layers.Dropout(rate)\n",
    "        self.dense2 = layers.Dense(feed_forward_dim, activation=\"relu\")\n",
    "        self.dense3 = layers.Dense(embed_dim)\n",
    "\n",
    "    def call(self, inputs, training):\n",
    "        attn_output = self.att(inputs, inputs)\n",
    "        attn_output = self.dropout1(attn_output, training=training)\n",
    "        out1 = self.layernorm1(inputs + attn_output)\n",
    "\n",
    "        # 追加した処理\n",
    "        dense1_output = self.dense1(out1)\n",
    "        dense1_output = self.dropout3(dense1_output, training=training)\n",
    "        out2 = self.layernorm3(out1 + dense1_output)\n",
    "\n",
    "        ffn_output = self.ffn(out2)\n",
    "        ffn_output = self.dropout2(ffn_output, training=training)\n",
    "        return self.layernorm2(out2 + self.dense3(self.dense2(ffn_output)))\n"
   ]
  },
  {
   "cell_type": "code",
   "execution_count": 10,
   "id": "987754c2",
   "metadata": {
    "execution": {
     "iopub.execute_input": "2023-07-07T06:00:36.592479Z",
     "iopub.status.busy": "2023-07-07T06:00:36.591519Z",
     "iopub.status.idle": "2023-07-07T06:00:36.607531Z",
     "shell.execute_reply": "2023-07-07T06:00:36.606167Z"
    },
    "papermill": {
     "duration": 0.029554,
     "end_time": "2023-07-07T06:00:36.609634",
     "exception": false,
     "start_time": "2023-07-07T06:00:36.580080",
     "status": "completed"
    },
    "tags": []
   },
   "outputs": [
    {
     "name": "stdout",
     "output_type": "stream",
     "text": [
      "<TFRecordDatasetV2 element_spec=TensorSpec(shape=(), dtype=tf.string, name=None)>\n"
     ]
    }
   ],
   "source": [
    "import tensorflow as tf\n",
    "\n",
    "# TFRecordファイルのパス\n",
    "tfrecord_file = \"/kaggle/working/tfds/128822441.tfrecord\"\n",
    "\n",
    "# TFRecordデータセットの作成\n",
    "dataset = tf.data.TFRecordDataset([tfrecord_file])\n",
    "print(dataset)"
   ]
  },
  {
   "cell_type": "markdown",
   "id": "c9f29e35",
   "metadata": {
    "papermill": {
     "duration": 0.010058,
     "end_time": "2023-07-07T06:00:36.629775",
     "exception": false,
     "start_time": "2023-07-07T06:00:36.619717",
     "status": "completed"
    },
    "tags": []
   },
   "source": [
    "#### Here I added the training flag to the TransformerDecoder's Dropout layers."
   ]
  },
  {
   "cell_type": "code",
   "execution_count": 11,
   "id": "140bd99e",
   "metadata": {
    "execution": {
     "iopub.execute_input": "2023-07-07T06:00:36.653857Z",
     "iopub.status.busy": "2023-07-07T06:00:36.653537Z",
     "iopub.status.idle": "2023-07-07T06:00:36.666631Z",
     "shell.execute_reply": "2023-07-07T06:00:36.665698Z"
    },
    "papermill": {
     "duration": 0.028856,
     "end_time": "2023-07-07T06:00:36.668726",
     "exception": false,
     "start_time": "2023-07-07T06:00:36.639870",
     "status": "completed"
    },
    "tags": []
   },
   "outputs": [],
   "source": [
    "class TransformerDecoder(layers.Layer):\n",
    "    def __init__(self, embed_dim, num_heads, feed_forward_dim, dropout_rate=0.1):\n",
    "        super().__init__()\n",
    "        self.layernorm1 = layers.LayerNormalization(epsilon=1e-6)\n",
    "        self.layernorm2 = layers.LayerNormalization(epsilon=1e-6)\n",
    "        self.layernorm3 = layers.LayerNormalization(epsilon=1e-6)\n",
    "        self.self_att = layers.MultiHeadAttention(\n",
    "            num_heads=num_heads, key_dim=embed_dim\n",
    "        )\n",
    "        self.enc_att = layers.MultiHeadAttention(num_heads=num_heads, key_dim=embed_dim)\n",
    "        self.self_dropout = layers.Dropout(0.5)\n",
    "        self.enc_dropout = layers.Dropout(0.1)\n",
    "        self.ffn_dropout = layers.Dropout(0.1)\n",
    "        self.ffn = keras.Sequential(\n",
    "            [\n",
    "                layers.Dense(feed_forward_dim, activation=\"relu\"),\n",
    "                layers.Dense(embed_dim),\n",
    "            ]\n",
    "        )\n",
    "\n",
    "    def causal_attention_mask(self, batch_size, n_dest, n_src, dtype):\n",
    "        \"\"\"Masks the upper half of the dot product matrix in self attention.\n",
    "\n",
    "        This prevents flow of information from future tokens to current token.\n",
    "        1's in the lower triangle, counting from the lower right corner.\n",
    "        \"\"\"\n",
    "        i = tf.range(n_dest)[:, None]\n",
    "        j = tf.range(n_src)\n",
    "        m = i >= j - n_src + n_dest\n",
    "        mask = tf.cast(m, dtype)\n",
    "        mask = tf.reshape(mask, [1, n_dest, n_src])\n",
    "        mult = tf.concat(\n",
    "            [batch_size[..., tf.newaxis], tf.constant([1, 1], dtype=tf.int32)], 0\n",
    "        )\n",
    "        return tf.tile(mask, mult)\n",
    "\n",
    "    def call(self, enc_out, target, training):\n",
    "        input_shape = tf.shape(target)\n",
    "        batch_size = input_shape[0]\n",
    "        seq_len = input_shape[1]\n",
    "        causal_mask = self.causal_attention_mask(batch_size, seq_len, seq_len, tf.bool)\n",
    "        target_att = self.self_att(target, target, attention_mask=causal_mask)\n",
    "        target_norm = self.layernorm1(target + self.self_dropout(target_att, training = training))\n",
    "        enc_out = self.enc_att(target_norm, enc_out)\n",
    "        enc_out_norm = self.layernorm2(self.enc_dropout(enc_out, training = training) + target_norm)\n",
    "        ffn_out = self.ffn(enc_out_norm)\n",
    "        ffn_out_norm = self.layernorm3(enc_out_norm + self.ffn_dropout(ffn_out, training = training))\n",
    "        return ffn_out_norm"
   ]
  },
  {
   "cell_type": "markdown",
   "id": "cfd65ff9",
   "metadata": {
    "papermill": {
     "duration": 0.009708,
     "end_time": "2023-07-07T06:00:36.688243",
     "exception": false,
     "start_time": "2023-07-07T06:00:36.678535",
     "status": "completed"
    },
    "tags": []
   },
   "source": [
    "#### Here I made the passing of the training flag explicit."
   ]
  },
  {
   "cell_type": "code",
   "execution_count": 12,
   "id": "84cdbbf2",
   "metadata": {
    "execution": {
     "iopub.execute_input": "2023-07-07T06:00:36.715793Z",
     "iopub.status.busy": "2023-07-07T06:00:36.715094Z",
     "iopub.status.idle": "2023-07-07T06:00:36.753219Z",
     "shell.execute_reply": "2023-07-07T06:00:36.751886Z"
    },
    "papermill": {
     "duration": 0.058435,
     "end_time": "2023-07-07T06:00:36.756596",
     "exception": false,
     "start_time": "2023-07-07T06:00:36.698161",
     "status": "completed"
    },
    "tags": []
   },
   "outputs": [],
   "source": [
    "class Transformer(keras.Model):\n",
    "    def __init__(\n",
    "        self,\n",
    "        num_hid=64,\n",
    "        num_head=2,\n",
    "        num_feed_forward=128,\n",
    "        source_maxlen=100,\n",
    "        target_maxlen=100,\n",
    "        num_layers_enc=4,\n",
    "        num_layers_dec=1,\n",
    "        num_classes=60,\n",
    "    ):\n",
    "        super().__init__()\n",
    "        self.loss_metric = keras.metrics.Mean(name=\"loss\")\n",
    "        self.num_layers_enc = num_layers_enc\n",
    "        self.num_layers_dec = num_layers_dec\n",
    "        self.target_maxlen = target_maxlen\n",
    "        self.num_classes = num_classes\n",
    "\n",
    "        self.enc_input = LandmarkEmbedding(num_hid=num_hid, maxlen=source_maxlen)\n",
    "        self.dec_input = TokenEmbedding(\n",
    "            num_vocab=num_classes, maxlen=target_maxlen, num_hid=num_hid\n",
    "        )\n",
    "\n",
    "        self.encoder = keras.Sequential(\n",
    "            [self.enc_input]\n",
    "            + [\n",
    "                TransformerEncoder(num_hid, num_head, num_feed_forward)\n",
    "                for _ in range(num_layers_enc)\n",
    "            ]\n",
    "        )\n",
    "\n",
    "        for i in range(num_layers_dec):\n",
    "            setattr(\n",
    "                self,\n",
    "                f\"dec_layer_{i}\",\n",
    "                TransformerDecoder(num_hid, num_head, num_feed_forward),\n",
    "            )\n",
    "\n",
    "        self.classifier = layers.Dense(num_classes)\n",
    "\n",
    "    def decode(self, enc_out, target, training):\n",
    "        y = self.dec_input(target)\n",
    "        for i in range(self.num_layers_dec):\n",
    "            y = getattr(self, f\"dec_layer_{i}\")(enc_out, y, training)\n",
    "        return y\n",
    "\n",
    "    def call(self, inputs, training):\n",
    "        source = inputs[0]\n",
    "        target = inputs[1]\n",
    "        x = self.encoder(source, training)\n",
    "        y = self.decode(x, target, training)\n",
    "        return self.classifier(y)\n",
    "\n",
    "    @property\n",
    "    def metrics(self):\n",
    "        return [self.loss_metric]\n",
    "\n",
    "    def train_step(self, batch):\n",
    "        \"\"\"Processes one batch inside model.fit().\"\"\"\n",
    "        source = batch[0]\n",
    "        target = batch[1]\n",
    "\n",
    "        input_shape = tf.shape(target)\n",
    "        batch_size = input_shape[0]\n",
    "        \n",
    "        dec_input = target[:, :-1]\n",
    "        dec_target = target[:, 1:]\n",
    "        with tf.GradientTape() as tape:\n",
    "            preds = self([source, dec_input])\n",
    "            one_hot = tf.one_hot(dec_target, depth=self.num_classes)\n",
    "            mask = tf.math.logical_not(tf.math.equal(dec_target, pad_token_idx))\n",
    "            loss = self.compiled_loss(one_hot, preds, sample_weight=mask)\n",
    "        trainable_vars = self.trainable_variables\n",
    "        gradients = tape.gradient(loss, trainable_vars)\n",
    "        self.optimizer.apply_gradients(zip(gradients, trainable_vars))\n",
    "        self.loss_metric.update_state(loss)\n",
    "        return {\"loss\": self.loss_metric.result()}\n",
    "\n",
    "    def test_step(self, batch):        \n",
    "        source = batch[0]\n",
    "        target = batch[1]\n",
    "\n",
    "        input_shape = tf.shape(target)\n",
    "        batch_size = input_shape[0]\n",
    "        \n",
    "        dec_input = target[:, :-1]\n",
    "        dec_target = target[:, 1:]\n",
    "        preds = self([source, dec_input])\n",
    "        one_hot = tf.one_hot(dec_target, depth=self.num_classes)\n",
    "        mask = tf.math.logical_not(tf.math.equal(dec_target, pad_token_idx))\n",
    "        loss = self.compiled_loss(one_hot, preds, sample_weight=mask)\n",
    "        self.loss_metric.update_state(loss)\n",
    "        return {\"loss\": self.loss_metric.result()}\n",
    "\n",
    "    def generate(self, source, target_start_token_idx):\n",
    "        \"\"\"Performs inference over one batch of inputs using greedy decoding.\"\"\"\n",
    "        bs = tf.shape(source)[0]\n",
    "        enc = self.encoder(source, training = False)\n",
    "        dec_input = tf.ones((bs, 1), dtype=tf.int32) * target_start_token_idx\n",
    "        dec_logits = []\n",
    "        for i in range(self.target_maxlen - 1):\n",
    "            dec_out = self.decode(enc, dec_input, training = False)\n",
    "            logits = self.classifier(dec_out)\n",
    "            logits = tf.argmax(logits, axis=-1, output_type=tf.int32)\n",
    "            last_logit = logits[:, -1][..., tf.newaxis]\n",
    "            dec_logits.append(last_logit)\n",
    "            dec_input = tf.concat([dec_input, last_logit], axis=-1)\n",
    "        return dec_input"
   ]
  },
  {
   "cell_type": "code",
   "execution_count": 13,
   "id": "34d1257a",
   "metadata": {
    "execution": {
     "iopub.execute_input": "2023-07-07T06:00:36.791026Z",
     "iopub.status.busy": "2023-07-07T06:00:36.790689Z",
     "iopub.status.idle": "2023-07-07T06:00:39.397877Z",
     "shell.execute_reply": "2023-07-07T06:00:39.396824Z"
    },
    "papermill": {
     "duration": 2.629681,
     "end_time": "2023-07-07T06:00:39.400672",
     "exception": false,
     "start_time": "2023-07-07T06:00:36.770991",
     "status": "completed"
    },
    "tags": []
   },
   "outputs": [],
   "source": [
    "# 正解率を計算するためのメトリクスを作成\n",
    "train_accuracy = tf.keras.metrics.CategoricalAccuracy()\n",
    "val_accuracy = tf.keras.metrics.CategoricalAccuracy()\n",
    "\n",
    "# 学習ループ内で正解率を更新するコールバックを定義\n",
    "class AccuracyCallback(tf.keras.callbacks.Callback):\n",
    "    def on_epoch_end(self, epoch, logs=None):\n",
    "        train_acc = train_accuracy.result()\n",
    "        val_acc = val_accuracy.result()\n",
    "        print(f\"Epoch {epoch+1}: Train Accuracy = {train_acc}, Validation Accuracy = {val_acc}\")\n",
    "        # 正解率をリセット\n",
    "        train_accuracy.reset_states()\n",
    "        val_accuracy.reset_states()\n",
    "# val_lossが3回マイナスになった場合に学習を停止するコールバック\n",
    "class EarlyStoppingCallback(tf.keras.callbacks.Callback):\n",
    "    def __init__(self, patience=7):\n",
    "        super(EarlyStoppingCallback, self).__init__()\n",
    "        self.patience = patience\n",
    "        self.min_val_loss = float('inf')\n",
    "        self.wait = 0\n",
    "\n",
    "    def on_epoch_end(self, epoch, logs=None):\n",
    "        val_loss = logs.get('val_loss')\n",
    "        if val_loss < self.min_val_loss:\n",
    "            self.min_val_loss = val_loss\n",
    "            self.wait = 0\n",
    "        else:\n",
    "            self.wait += 1\n",
    "            if self.wait >= self.patience:\n",
    "                self.model.stop_training = True\n",
    "                print(\"Training stopped due to early stopping.\")\n",
    "\n",
    "batch = next(iter(val_dataset))\n",
    "idx_to_char = list(char_to_num.keys())\n",
    "\n",
    "model = Transformer(\n",
    "    num_hid=256,\n",
    "    num_head=4,\n",
    "    num_feed_forward=400,\n",
    "    source_maxlen = FRAME_LEN,\n",
    "    target_maxlen=64,\n",
    "    num_layers_enc=3,\n",
    "    num_layers_dec=2,\n",
    "    num_classes=62,\n",
    ")\n",
    "\n",
    "\n",
    "loss_fn = tf.keras.losses.CategoricalCrossentropy(from_logits=True, label_smoothing=0.1)\n",
    "accuracy_callback = AccuracyCallback()\n",
    "optimizer = keras.optimizers.Adam(0.0001)\n",
    "\n",
    "\n",
    "# モデルのコンパイル\n",
    "model.compile(optimizer=optimizer, loss=loss_fn, metrics=[train_accuracy])"
   ]
  },
  {
   "cell_type": "code",
   "execution_count": 14,
   "id": "09825049",
   "metadata": {
    "execution": {
     "iopub.execute_input": "2023-07-07T06:00:39.423945Z",
     "iopub.status.busy": "2023-07-07T06:00:39.422365Z",
     "iopub.status.idle": "2023-07-07T06:00:39.427879Z",
     "shell.execute_reply": "2023-07-07T06:00:39.427041Z"
    },
    "papermill": {
     "duration": 0.018671,
     "end_time": "2023-07-07T06:00:39.429843",
     "exception": false,
     "start_time": "2023-07-07T06:00:39.411172",
     "status": "completed"
    },
    "tags": []
   },
   "outputs": [],
   "source": [
    "#modelアーキテクト\n",
    "#tf.keras.utils.plot_model(model, show_shapes=True, show_dtype=True, show_layer_names=True, expand_nested=True, show_layer_activations=True)\n"
   ]
  },
  {
   "cell_type": "code",
   "execution_count": 15,
   "id": "3b71a23a",
   "metadata": {
    "execution": {
     "iopub.execute_input": "2023-07-07T06:00:39.452021Z",
     "iopub.status.busy": "2023-07-07T06:00:39.451139Z",
     "iopub.status.idle": "2023-07-07T07:38:46.934409Z",
     "shell.execute_reply": "2023-07-07T07:38:46.930339Z"
    },
    "papermill": {
     "duration": 5887.513949,
     "end_time": "2023-07-07T07:38:46.954047",
     "exception": false,
     "start_time": "2023-07-07T06:00:39.440098",
     "status": "completed"
    },
    "tags": []
   },
   "outputs": [
    {
     "name": "stdout",
     "output_type": "stream",
     "text": [
      "Epoch 1/100\n",
      "Epoch 1: Train Accuracy = 0.0, Validation Accuracy = 0.0\n",
      "1520/1520 - 277s - loss: 0.7820 - val_loss: 0.6214 - 277s/epoch - 182ms/step\n",
      "Epoch 2/100\n",
      "Epoch 2: Train Accuracy = 0.0, Validation Accuracy = 0.0\n",
      "1520/1520 - 219s - loss: 0.5513 - val_loss: 0.5102 - 219s/epoch - 144ms/step\n",
      "Epoch 3/100\n",
      "Epoch 3: Train Accuracy = 0.0, Validation Accuracy = 0.0\n",
      "1520/1520 - 221s - loss: 0.4871 - val_loss: 0.4780 - 221s/epoch - 146ms/step\n",
      "Epoch 4/100\n",
      "Epoch 4: Train Accuracy = 0.0, Validation Accuracy = 0.0\n",
      "1520/1520 - 232s - loss: 0.4581 - val_loss: 0.4577 - 232s/epoch - 152ms/step\n",
      "Epoch 5/100\n",
      "Epoch 5: Train Accuracy = 0.0, Validation Accuracy = 0.0\n",
      "1520/1520 - 234s - loss: 0.4401 - val_loss: 0.4490 - 234s/epoch - 154ms/step\n",
      "Epoch 6/100\n",
      "Epoch 6: Train Accuracy = 0.0, Validation Accuracy = 0.0\n",
      "1520/1520 - 237s - loss: 0.4261 - val_loss: 0.4395 - 237s/epoch - 156ms/step\n",
      "Epoch 7/100\n",
      "Epoch 7: Train Accuracy = 0.0, Validation Accuracy = 0.0\n",
      "1520/1520 - 238s - loss: 0.4160 - val_loss: 0.4346 - 238s/epoch - 157ms/step\n",
      "Epoch 8/100\n",
      "Epoch 8: Train Accuracy = 0.0, Validation Accuracy = 0.0\n",
      "1520/1520 - 231s - loss: 0.4062 - val_loss: 0.4261 - 231s/epoch - 152ms/step\n",
      "Epoch 9/100\n",
      "Epoch 9: Train Accuracy = 0.0, Validation Accuracy = 0.0\n",
      "1520/1520 - 235s - loss: 0.3984 - val_loss: 0.4246 - 235s/epoch - 155ms/step\n",
      "Epoch 10/100\n",
      "Epoch 10: Train Accuracy = 0.0, Validation Accuracy = 0.0\n",
      "1520/1520 - 231s - loss: 0.3914 - val_loss: 0.4201 - 231s/epoch - 152ms/step\n",
      "Epoch 11/100\n",
      "Epoch 11: Train Accuracy = 0.0, Validation Accuracy = 0.0\n",
      "1520/1520 - 227s - loss: 0.3847 - val_loss: 0.4169 - 227s/epoch - 149ms/step\n",
      "Epoch 12/100\n",
      "Epoch 12: Train Accuracy = 0.0, Validation Accuracy = 0.0\n",
      "1520/1520 - 231s - loss: 0.3790 - val_loss: 0.4144 - 231s/epoch - 152ms/step\n",
      "Epoch 13/100\n",
      "Epoch 13: Train Accuracy = 0.0, Validation Accuracy = 0.0\n",
      "1520/1520 - 226s - loss: 0.3732 - val_loss: 0.4128 - 226s/epoch - 149ms/step\n",
      "Epoch 14/100\n",
      "Epoch 14: Train Accuracy = 0.0, Validation Accuracy = 0.0\n",
      "1520/1520 - 224s - loss: 0.3681 - val_loss: 0.4103 - 224s/epoch - 147ms/step\n",
      "Epoch 15/100\n",
      "Epoch 15: Train Accuracy = 0.0, Validation Accuracy = 0.0\n",
      "1520/1520 - 226s - loss: 0.3630 - val_loss: 0.4099 - 226s/epoch - 149ms/step\n",
      "Epoch 16/100\n",
      "Epoch 16: Train Accuracy = 0.0, Validation Accuracy = 0.0\n",
      "1520/1520 - 219s - loss: 0.3584 - val_loss: 0.4104 - 219s/epoch - 144ms/step\n",
      "Epoch 17/100\n",
      "Epoch 17: Train Accuracy = 0.0, Validation Accuracy = 0.0\n",
      "1520/1520 - 222s - loss: 0.3538 - val_loss: 0.4083 - 222s/epoch - 146ms/step\n",
      "Epoch 18/100\n",
      "Epoch 18: Train Accuracy = 0.0, Validation Accuracy = 0.0\n",
      "1520/1520 - 223s - loss: 0.3494 - val_loss: 0.4093 - 223s/epoch - 146ms/step\n",
      "Epoch 19/100\n",
      "Epoch 19: Train Accuracy = 0.0, Validation Accuracy = 0.0\n",
      "1520/1520 - 221s - loss: 0.3452 - val_loss: 0.4110 - 221s/epoch - 145ms/step\n",
      "Epoch 20/100\n",
      "Epoch 20: Train Accuracy = 0.0, Validation Accuracy = 0.0\n",
      "1520/1520 - 227s - loss: 0.3413 - val_loss: 0.4106 - 227s/epoch - 149ms/step\n",
      "Epoch 21/100\n",
      "Epoch 21: Train Accuracy = 0.0, Validation Accuracy = 0.0\n",
      "1520/1520 - 232s - loss: 0.3372 - val_loss: 0.4112 - 232s/epoch - 152ms/step\n",
      "Epoch 22/100\n",
      "Epoch 22: Train Accuracy = 0.0, Validation Accuracy = 0.0\n",
      "1520/1520 - 241s - loss: 0.3333 - val_loss: 0.4106 - 241s/epoch - 158ms/step\n",
      "Epoch 23/100\n",
      "Epoch 23: Train Accuracy = 0.0, Validation Accuracy = 0.0\n",
      "1520/1520 - 241s - loss: 0.3294 - val_loss: 0.4111 - 241s/epoch - 158ms/step\n",
      "Epoch 24/100\n",
      "Epoch 24: Train Accuracy = 0.0, Validation Accuracy = 0.0\n",
      "Training stopped due to early stopping.\n",
      "1520/1520 - 242s - loss: 0.3258 - val_loss: 0.4173 - 242s/epoch - 159ms/step\n",
      "CPU times: user 2h 37s, sys: 7min 30s, total: 2h 8min 7s\n",
      "Wall time: 1h 38min 7s\n"
     ]
    }
   ],
   "source": [
    "%%time\n",
    "# EarlyStoppingCallbackをコールバックリストに追加して学習を行う\n",
    "history = model.fit(train_dataset, verbose=2, validation_data=val_dataset, epochs=100,\n",
    "                    callbacks=[AccuracyCallback(), EarlyStoppingCallback()])"
   ]
  },
  {
   "cell_type": "code",
   "execution_count": 16,
   "id": "a9e44d4b",
   "metadata": {
    "execution": {
     "iopub.execute_input": "2023-07-07T07:38:46.989108Z",
     "iopub.status.busy": "2023-07-07T07:38:46.988718Z",
     "iopub.status.idle": "2023-07-07T07:38:47.052584Z",
     "shell.execute_reply": "2023-07-07T07:38:47.051356Z"
    },
    "papermill": {
     "duration": 0.085003,
     "end_time": "2023-07-07T07:38:47.055120",
     "exception": false,
     "start_time": "2023-07-07T07:38:46.970117",
     "status": "completed"
    },
    "tags": []
   },
   "outputs": [
    {
     "name": "stdout",
     "output_type": "stream",
     "text": [
      "Model: \"transformer\"\n",
      "_________________________________________________________________\n",
      " Layer (type)                Output Shape              Param #   \n",
      "=================================================================\n",
      " landmark_embedding (Landmar  (None, 128, 256)         2387456   \n",
      " kEmbedding)                                                     \n",
      "                                                                 \n",
      " token_embedding (TokenEmbed  multiple                 410624    \n",
      " ding)                                                           \n",
      "                                                                 \n",
      " sequential_4 (Sequential)   (None, 128, 256)          6977888   \n",
      "                                                                 \n",
      " transformer_decoder (Transf  multiple                 2310800   \n",
      " ormerDecoder)                                                   \n",
      "                                                                 \n",
      " transformer_decoder_1 (Tran  multiple                 2310800   \n",
      " sformerDecoder)                                                 \n",
      "                                                                 \n",
      " dense_25 (Dense)            multiple                  15934     \n",
      "                                                                 \n",
      "=================================================================\n",
      "Total params: 12,026,048\n",
      "Trainable params: 12,023,998\n",
      "Non-trainable params: 2,050\n",
      "_________________________________________________________________\n",
      "None\n"
     ]
    }
   ],
   "source": [
    "print(model.summary())"
   ]
  },
  {
   "cell_type": "code",
   "execution_count": 17,
   "id": "2b235066",
   "metadata": {
    "execution": {
     "iopub.execute_input": "2023-07-07T07:38:47.094254Z",
     "iopub.status.busy": "2023-07-07T07:38:47.093252Z",
     "iopub.status.idle": "2023-07-07T07:38:47.560409Z",
     "shell.execute_reply": "2023-07-07T07:38:47.559413Z"
    },
    "papermill": {
     "duration": 0.489829,
     "end_time": "2023-07-07T07:38:47.562700",
     "exception": false,
     "start_time": "2023-07-07T07:38:47.072871",
     "status": "completed"
    },
    "tags": []
   },
   "outputs": [
    {
     "data": {
      "text/plain": [
       "[<matplotlib.lines.Line2D at 0x7bdc88453ac0>]"
      ]
     },
     "execution_count": 17,
     "metadata": {},
     "output_type": "execute_result"
    },
    {
     "data": {
      "image/png": "[encoded data removed]",
      "text/plain": [
       "<Figure size 640x480 with 1 Axes>"
      ]
     },
     "metadata": {},
     "output_type": "display_data"
    }
   ],
   "source": [
    "plt.plot(history.history['loss'])\n",
    "plt.plot(history.history['val_loss'])"
   ]
  },
  {
   "cell_type": "markdown",
   "id": "6841397b",
   "metadata": {
    "papermill": {
     "duration": 0.021645,
     "end_time": "2023-07-07T07:38:47.602002",
     "exception": false,
     "start_time": "2023-07-07T07:38:47.580357",
     "status": "completed"
    },
    "tags": []
   },
   "source": [
    "# Validation"
   ]
  },
  {
   "cell_type": "code",
   "execution_count": 18,
   "id": "492ba19c",
   "metadata": {
    "execution": {
     "iopub.execute_input": "2023-07-07T07:38:47.680007Z",
     "iopub.status.busy": "2023-07-07T07:38:47.672323Z",
     "iopub.status.idle": "2023-07-07T07:38:55.968172Z",
     "shell.execute_reply": "2023-07-07T07:38:55.967084Z"
    },
    "papermill": {
     "duration": 8.334785,
     "end_time": "2023-07-07T07:38:55.971202",
     "exception": false,
     "start_time": "2023-07-07T07:38:47.636417",
     "status": "completed"
    },
    "tags": []
   },
   "outputs": [
    {
     "name": "stdout",
     "output_type": "stream",
     "text": [
      "S3 creekhouseE\n",
      "S33 creek houseE\n",
      "\n",
      "~~~\n",
      "\n",
      "Sscales/kuhaylahE\n",
      "Sscales chuhaylaE\n",
      "\n",
      "~~~\n",
      "\n",
      "S1383 william lanierE\n",
      "S1385 william lanierE\n",
      "\n",
      "~~~\n",
      "\n",
      "S988 franklin laneE\n",
      "S988 funklin plakeE\n",
      "\n",
      "~~~\n",
      "\n",
      "S6920 northeast 661st roadE\n",
      "S6920 northeast 66th stroadE\n",
      "\n",
      "~~~\n",
      "\n",
      "Swww.freem.ne.jpE\n",
      "Swww.freem.me.jpE\n",
      "\n",
      "~~~\n",
      "\n",
      "Shttps://jsi.is/hukuokaE\n",
      "Shttps://jsi.is/hkuokaE\n",
      "\n",
      "~~~\n",
      "\n",
      "S239613 stolze streetE\n",
      "S296102 stold east roadE\n",
      "\n",
      "~~~\n",
      "\n",
      "S271097 bayshore boulevardE\n",
      "S271097 bay gore boulevardE\n",
      "\n",
      "~~~\n",
      "\n",
      "Sfederico pearsonE\n",
      "Sfederico pearonE\n",
      "\n",
      "~~~\n",
      "\n"
     ]
    }
   ],
   "source": [
    "batches = [batch for batch in val_dataset]\n",
    "\n",
    "preds_list = []\n",
    "ground_truth_list = []\n",
    "\n",
    "for batch in batches[:1]:\n",
    "    source = batch[0]\n",
    "    target = batch[1].numpy()\n",
    "    bs = tf.shape(source)[0]\n",
    "    preds = model.generate(source, start_token_idx)\n",
    "    preds = preds.numpy()\n",
    "\n",
    "    for i in range(bs):\n",
    "        target_text = \"\".join([idx_to_char[_] for _ in target[i, :]])\n",
    "        ground_truth_list.append(target_text.replace('P', ''))\n",
    "        prediction = \"\"\n",
    "        for idx in preds[i, :]:\n",
    "            prediction += idx_to_char[idx]\n",
    "            if idx == end_token_idx:\n",
    "                break\n",
    "        preds_list.append(prediction)\n",
    "\n",
    "for i in range(10):\n",
    "    print(ground_truth_list[i])\n",
    "    print(preds_list[i])\n",
    "    print('\\n~~~\\n')"
   ]
  },
  {
   "cell_type": "code",
   "execution_count": 19,
   "id": "6d008b9b",
   "metadata": {
    "execution": {
     "iopub.execute_input": "2023-07-07T07:38:56.009475Z",
     "iopub.status.busy": "2023-07-07T07:38:56.009139Z",
     "iopub.status.idle": "2023-07-07T07:38:56.024850Z",
     "shell.execute_reply": "2023-07-07T07:38:56.023830Z"
    },
    "papermill": {
     "duration": 0.036584,
     "end_time": "2023-07-07T07:38:56.026935",
     "exception": false,
     "start_time": "2023-07-07T07:38:55.990351",
     "status": "completed"
    },
    "tags": []
   },
   "outputs": [
    {
     "name": "stdout",
     "output_type": "stream",
     "text": [
      "Validation score: 0.7838765008576329\n"
     ]
    }
   ],
   "source": [
    "ground_truth_processed = [ground_truth_list[i][1:-1] for i in range(len(ground_truth_list))]\n",
    "preds_list_processed = [preds_list[i][1:-1] for i in range(len(preds_list))]\n",
    "lev_dist = [lev.distance(ground_truth_processed[i], preds_list_processed[i])\n",
    "            for i in range(len(preds_list_processed))]\n",
    "N = [len(phrase) for phrase in ground_truth_processed]\n",
    "\n",
    "print('Validation score: '+str((np.sum(N) - np.sum(lev_dist))/np.sum(N)))"
   ]
  },
  {
   "cell_type": "markdown",
   "id": "b09f5917",
   "metadata": {
    "papermill": {
     "duration": 0.016974,
     "end_time": "2023-07-07T07:38:56.061232",
     "exception": false,
     "start_time": "2023-07-07T07:38:56.044258",
     "status": "completed"
    },
    "tags": []
   },
   "source": [
    "# Levenstein Distance Train"
   ]
  },
  {
   "cell_type": "code",
   "execution_count": 20,
   "id": "214481b9",
   "metadata": {
    "execution": {
     "iopub.execute_input": "2023-07-07T07:38:56.187641Z",
     "iopub.status.busy": "2023-07-07T07:38:56.186628Z",
     "iopub.status.idle": "2023-07-07T07:38:56.194963Z",
     "shell.execute_reply": "2023-07-07T07:38:56.193962Z"
    },
    "papermill": {
     "duration": 0.118419,
     "end_time": "2023-07-07T07:38:56.197168",
     "exception": false,
     "start_time": "2023-07-07T07:38:56.078749",
     "status": "completed"
    },
    "tags": []
   },
   "outputs": [],
   "source": [
    "# Compute Levenstein Distances\n",
    "def get_ld_train():\n",
    "    N = 100 if IS_INTERACTIVE else 1000\n",
    "    LD_TRAIN = []\n",
    "    for idx, (frames, phrase_true) in enumerate(zip(tqdm(X_train, total=N), y_train)):\n",
    "        # Predict Phrase and Convert to String\n",
    "        phrase_pred = predict_phrase(frames).numpy()\n",
    "        phrase_pred = outputs2phrase(phrase_pred)\n",
    "        # True Phrase Ordinal to String\n",
    "        phrase_true = outputs2phrase(phrase_true)\n",
    "        # Add Levenstein Distance\n",
    "        LD_TRAIN.append({\n",
    "            'phrase_true': phrase_true,\n",
    "            'phrase_pred': phrase_pred,\n",
    "            'levenshtein_distance': levenshtein(phrase_pred, phrase_true),\n",
    "        })\n",
    "        # Take subset in interactive mode\n",
    "        if idx == N:\n",
    "            break\n",
    "            \n",
    "    # Convert to DataFrame\n",
    "    LD_TRAIN_DF = pd.DataFrame(LD_TRAIN)\n",
    "    \n",
    "    return LD_TRAIN_DF"
   ]
  },
  {
   "cell_type": "markdown",
   "id": "8447ce40",
   "metadata": {
    "papermill": {
     "duration": 0.017434,
     "end_time": "2023-07-07T07:38:56.232495",
     "exception": false,
     "start_time": "2023-07-07T07:38:56.215061",
     "status": "completed"
    },
    "tags": []
   },
   "source": [
    "# TFLiteModel"
   ]
  },
  {
   "cell_type": "code",
   "execution_count": 21,
   "id": "a1c84941",
   "metadata": {
    "execution": {
     "iopub.execute_input": "2023-07-07T07:38:56.270143Z",
     "iopub.status.busy": "2023-07-07T07:38:56.269218Z",
     "iopub.status.idle": "2023-07-07T07:38:56.281173Z",
     "shell.execute_reply": "2023-07-07T07:38:56.280208Z"
    },
    "papermill": {
     "duration": 0.033217,
     "end_time": "2023-07-07T07:38:56.283447",
     "exception": false,
     "start_time": "2023-07-07T07:38:56.250230",
     "status": "completed"
    },
    "tags": []
   },
   "outputs": [],
   "source": [
    " class TFLiteModel(tf.Module):\n",
    "    def __init__(self, model):\n",
    "        super(TFLiteModel, self).__init__()\n",
    "        self.target_start_token_idx = start_token_idx\n",
    "        self.target_end_token_idx = end_token_idx\n",
    "        # Load the feature generation and main models\n",
    "        self.model = model\n",
    "\n",
    "    @tf.function(input_signature=[tf.TensorSpec(shape=[None, len(SEL_COLS)], dtype=tf.float32, name='inputs')])\n",
    "    def __call__(self, inputs, training=False):\n",
    "        # Preprocess Data\n",
    "        x = tf.cast(inputs, tf.float32)\n",
    "        x = x[None]\n",
    "        x = tf.cond(tf.shape(x)[1] == 0, lambda: tf.zeros((1, 1, len(SEL_COLS))), lambda: tf.identity(x))\n",
    "        x = x[0]\n",
    "        x = pre_process(x)\n",
    "        x = x[None]\n",
    "        x = self.model.generate(x, self.target_start_token_idx)\n",
    "        x = x[0]\n",
    "        idx = tf.argmax(tf.cast(tf.equal(x, self.target_end_token_idx), tf.int32))\n",
    "        idx = tf.where(tf.math.less(idx, 1), tf.constant(2, dtype=tf.int64), idx)\n",
    "        x = x[1:idx]\n",
    "        x = tf.one_hot(x, 59)\n",
    "        return {'outputs': x}\n",
    "\n",
    "tflitemodel_base = TFLiteModel(model)"
   ]
  },
  {
   "cell_type": "code",
   "execution_count": 22,
   "id": "aa170193",
   "metadata": {
    "execution": {
     "iopub.execute_input": "2023-07-07T07:38:56.320546Z",
     "iopub.status.busy": "2023-07-07T07:38:56.320193Z",
     "iopub.status.idle": "2023-07-07T07:38:56.630624Z",
     "shell.execute_reply": "2023-07-07T07:38:56.629528Z"
    },
    "papermill": {
     "duration": 0.33267,
     "end_time": "2023-07-07T07:38:56.633476",
     "exception": false,
     "start_time": "2023-07-07T07:38:56.300806",
     "status": "completed"
    },
    "tags": []
   },
   "outputs": [],
   "source": [
    "model.save_weights(\"model.h5\")"
   ]
  },
  {
   "cell_type": "code",
   "execution_count": 23,
   "id": "797b490b",
   "metadata": {
    "execution": {
     "iopub.execute_input": "2023-07-07T07:38:56.677155Z",
     "iopub.status.busy": "2023-07-07T07:38:56.675105Z",
     "iopub.status.idle": "2023-07-07T07:41:21.275315Z",
     "shell.execute_reply": "2023-07-07T07:41:21.274203Z"
    },
    "papermill": {
     "duration": 144.626633,
     "end_time": "2023-07-07T07:41:21.279554",
     "exception": false,
     "start_time": "2023-07-07T07:38:56.652921",
     "status": "completed"
    },
    "tags": []
   },
   "outputs": [
    {
     "name": "stdout",
     "output_type": "stream",
     "text": [
      "Tensor(\"cond_2/Pad:0\", shape=(None, 26, 3), dtype=float32)\n"
     ]
    }
   ],
   "source": [
    "keras_model_converter = tf.lite.TFLiteConverter.from_keras_model(tflitemodel_base)\n",
    "keras_model_converter.target_spec.supported_ops = [tf.lite.OpsSet.TFLITE_BUILTINS]#, tf.lite.OpsSet.SELECT_TF_OPS]\n",
    "tflite_model = keras_model_converter.convert()\n",
    "with open('/kaggle/working/model.tflite', 'wb') as f:\n",
    "    f.write(tflite_model)\n",
    "\n",
    "infargs = {\"selected_columns\" : SEL_COLS}\n",
    "\n",
    "with open('inference_args.json', \"w\") as json_file:\n",
    "    json.dump(infargs, json_file)"
   ]
  },
  {
   "cell_type": "code",
   "execution_count": 24,
   "id": "572d663f",
   "metadata": {
    "execution": {
     "iopub.execute_input": "2023-07-07T07:41:21.319465Z",
     "iopub.status.busy": "2023-07-07T07:41:21.319110Z",
     "iopub.status.idle": "2023-07-07T07:41:26.216995Z",
     "shell.execute_reply": "2023-07-07T07:41:26.215690Z"
    },
    "papermill": {
     "duration": 4.921208,
     "end_time": "2023-07-07T07:41:26.219953",
     "exception": false,
     "start_time": "2023-07-07T07:41:21.298745",
     "status": "completed"
    },
    "tags": []
   },
   "outputs": [
    {
     "name": "stdout",
     "output_type": "stream",
     "text": [
      "  adding: model.tflite (deflated 14%)\r\n",
      "  adding: inference_args.json (deflated 85%)\r\n"
     ]
    }
   ],
   "source": [
    "!zip submission.zip  './model.tflite' './inference_args.json'"
   ]
  },
  {
   "cell_type": "code",
   "execution_count": 25,
   "id": "ce2e305f",
   "metadata": {
    "execution": {
     "iopub.execute_input": "2023-07-07T07:41:26.260261Z",
     "iopub.status.busy": "2023-07-07T07:41:26.259570Z",
     "iopub.status.idle": "2023-07-07T07:41:27.554695Z",
     "shell.execute_reply": "2023-07-07T07:41:27.552240Z"
    },
    "papermill": {
     "duration": 1.317984,
     "end_time": "2023-07-07T07:41:27.557331",
     "exception": false,
     "start_time": "2023-07-07T07:41:26.239347",
     "status": "completed"
    },
    "tags": []
   },
   "outputs": [
    {
     "name": "stdout",
     "output_type": "stream",
     "text": [
      "288-212-2222\n"
     ]
    }
   ],
   "source": [
    "interpreter = tf.lite.Interpreter(\"model.tflite\")\n",
    "\n",
    "REQUIRED_SIGNATURE = \"serving_default\"\n",
    "REQUIRED_OUTPUT = \"outputs\"\n",
    "\n",
    "with open (\"/kaggle/input/asl-fingerspelling/character_to_prediction_index.json\", \"r\") as f:\n",
    "    character_map = json.load(f)\n",
    "rev_character_map = {j:i for i,j in character_map.items()}\n",
    "\n",
    "found_signatures = list(interpreter.get_signature_list().keys())\n",
    "\n",
    "if REQUIRED_SIGNATURE not in found_signatures:\n",
    "    raise KernelEvalException('Required input signature not found.')\n",
    "\n",
    "prediction_fn = interpreter.get_signature_runner(\"serving_default\")\n",
    "output = prediction_fn(inputs=batch[0][0])\n",
    "prediction_str = \"\".join([rev_character_map.get(s, \"\") for s in np.argmax(output[REQUIRED_OUTPUT], axis=1)])\n",
    "print(prediction_str)"
   ]
  }
 ],
 "metadata": {
  "kernelspec": {
   "display_name": "Python 3",
   "language": "python",
   "name": "python3"
  },
  "language_info": {
   "codemirror_mode": {
    "name": "ipython",
    "version": 3
   },
   "file_extension": ".py",
   "mimetype": "text/x-python",
   "name": "python",
   "nbconvert_exporter": "python",
   "pygments_lexer": "ipython3",
   "version": "3.10.10"
  },
  "papermill": {
   "default_parameters": {},
   "duration": 6081.930817,
   "end_time": "2023-07-07T07:41:31.616775",
   "environment_variables": {},
   "exception": null,
   "input_path": "__notebook__.ipynb",
   "output_path": "__notebook__.ipynb",
   "parameters": {},
   "start_time": "2023-07-07T06:00:09.685958",
   "version": "2.4.0"
  }
 },
 "nbformat": 4,
 "nbformat_minor": 5
}
